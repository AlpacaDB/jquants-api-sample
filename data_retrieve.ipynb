{
  "cells": [
    {
      "cell_type": "markdown",
      "metadata": {
        "collapsed": false,
        "id": "EliGb_8tGJva"
      },
      "source": [
        "[![Open In Colab](https://colab.research.google.com/assets/colab-badge.svg)](https://colab.research.google.com/github/AlpacaDB/jquants-api-sample/blob/main/data_retrieve.ipynb)"
      ]
    },
    {
      "cell_type": "markdown",
      "metadata": {
        "collapsed": true,
        "id": "3CyAgtw7GJvc"
      },
      "source": [
        "# J-Quants APIを用いた株式分析チュートリアル用データ取得\n",
        "\n",
        "本ノートブックでは、日本取引所グループが提供している [株式分析チュートリアル](https://japanexchangegroup.github.io/J-Quants-Tutorial/) の実行に必要となる株価・財務情報データを [J-Quants API](https://jpx-jquants.com/#jquants-api) を使用して取得し、データを調整し、保存するところまでを行います。\n",
        "\n",
        "Google Colab上で動作確認を行っています。\n",
        "\n",
        "---\n",
        "\n",
        "**このノートブックはGoogle Driveを使用します。**\n",
        "\n",
        "- Google Drive の以下のフォルダーにデータを書き込みます。\n",
        "    - `MyDrive/drive_ws/marketdata`"
      ]
    },
    {
      "cell_type": "markdown",
      "metadata": {
        "collapsed": false,
        "id": "XKtXotmbGJvc"
      },
      "source": [
        "## J-Quants API 利用準備: リフレッシュトークンの取得\n",
        "J-Quants APIを利用するためには [J-Quants API のメニューページ](https://application.jpx-jquants.com/) から取得できるリフレッシュトークンが必要になります。\n",
        "会員登録とリフレッシュトークンの取得を完了させてから次に進みます。"
      ]
    },
    {
      "cell_type": "markdown",
      "metadata": {
        "id": "_HNw7eBtrwg2"
      },
      "source": [
        "## ライブラリとデータ保存先の設定"
      ]
    },
    {
      "cell_type": "markdown",
      "metadata": {
        "collapsed": false,
        "id": "yW05JPyuGJvd"
      },
      "source": [
        "必要なライブラリのinstall/importと設定を行います。\n",
        "\n",
        "本ノートブックでは、J-Quants API のPythonクライアントライブラリである [jquants-api-client-python](https://github.com/J-Quants/jquants-api-client-python) を使用します。"
      ]
    },
    {
      "cell_type": "code",
      "execution_count": null,
      "metadata": {
        "id": "UL4Jo8m2GJvd"
      },
      "outputs": [],
      "source": [
        "# jquants-api-client をインストールします\n",
        "!pip install jquants-api-client==0.1.3\n",
        "\n",
        "import getpass\n",
        "import os\n",
        "from datetime import datetime\n",
        "from typing import List\n",
        "\n",
        "import numpy as np\n",
        "import pandas as pd\n",
        "from requests import HTTPError\n",
        "\n",
        "import jquantsapi\n",
        "\n",
        "\n",
        "# --- コンフィグ ---\n",
        "# Googleドライブをマウントするディレクトリ\n",
        "GOOGLE_DRIVE_MOUNT_DIR_PATH = \"/content/drive\"\n",
        "\n",
        "# データを保存するGoogleドライブ上のディレクトリ\n",
        "STORAGE_DIR_PATH = f\"{GOOGLE_DRIVE_MOUNT_DIR_PATH}/MyDrive/drive_ws/marketdata\"\n",
        "\n",
        "# 各種CSVデータを保存するファイルパス\n",
        "# 元データ\n",
        "raw_stock_list_csvfile_path = f\"{STORAGE_DIR_PATH}/raw_stock_list.csv.gz\"\n",
        "raw_stock_fins_csvfile_path = f\"{STORAGE_DIR_PATH}/raw_stock_fin.csv.gz\"\n",
        "raw_stock_price_csvfile_path = f\"{STORAGE_DIR_PATH}/raw_stock_price.csv.gz\"\n",
        "# 処理済みデータ\n",
        "stock_list_csvfile_path = f\"{STORAGE_DIR_PATH}/stock_list.csv.gz\"\n",
        "stock_fins_csvfile_path = f\"{STORAGE_DIR_PATH}/stock_fin.csv.gz\"\n",
        "stock_price_csvfile_path = f\"{STORAGE_DIR_PATH}/stock_price.csv.gz\"\n",
        "stock_labels_csvfile_path = f\"{STORAGE_DIR_PATH}/stock_labels.csv.gz\"\n",
        "\n",
        "# J-Quants API から取得するデータの期間\n",
        "start_dt: datetime = datetime(2017, 1, 1)\n",
        "# デバッグ中は短い期間を使う\n",
        "#start_dt: datetime = datetime(2022, 3, 1)\n",
        "\n",
        "end_dt: datetime = datetime(2022, 8, 31)"
      ]
    },
    {
      "cell_type": "code",
      "execution_count": null,
      "metadata": {
        "id": "757Ajii9ONBQ"
      },
      "outputs": [],
      "source": [
        "# Googleドライブをマウント\n",
        "from google.colab import drive\n",
        "drive.mount(GOOGLE_DRIVE_MOUNT_DIR_PATH)"
      ]
    },
    {
      "cell_type": "code",
      "execution_count": null,
      "metadata": {
        "id": "EpSrLMQY-QQY"
      },
      "outputs": [],
      "source": [
        "# データ保存先のフォルダーを作成しておきます\n",
        "os.makedirs(STORAGE_DIR_PATH, exist_ok=True)"
      ]
    },
    {
      "cell_type": "markdown",
      "metadata": {
        "id": "W6csfvOur_VP"
      },
      "source": [
        "## リフレッシュトークンの設定"
      ]
    },
    {
      "cell_type": "markdown",
      "metadata": {
        "collapsed": false,
        "id": "qgVoql6RGJve"
      },
      "source": [
        "入力ボックスに https://application.jpx-jquants.com/ から取得したJ-Quants APIのリフレッシュトークンを入力してください。"
      ]
    },
    {
      "cell_type": "code",
      "execution_count": null,
      "metadata": {
        "id": "i1ADs91SGJve"
      },
      "outputs": [],
      "source": [
        "refresh_token = getpass.getpass(prompt=\"J-Quants Refresh Token:\")\n",
        "# リフレッシュトークンを使用できるか検証します。\n",
        "test_cli = jquantsapi.Client(refresh_token=refresh_token)\n",
        "try:\n",
        "    id_token = test_cli.get_id_token()\n",
        "    if len(id_token) > 0:\n",
        "        print(\"refresh_tokenは正常です。次の手順に進んでください。\")\n",
        "except HTTPError:\n",
        "    print(\"refresh_tokenを使用できません。再度値を確認してください。\")"
      ]
    },
    {
      "cell_type": "markdown",
      "metadata": {
        "collapsed": false,
        "id": "xaknOIQQGJve"
      },
      "source": [
        "## データのダウンロードおよび保存\n",
        "\n",
        "銘柄一覧および、上記で設定したデータ取得期間(start_dt から end_dt) の\n",
        "全銘柄の価格と財務情報データを取得します。加えて、取得したデータを保存しておきます。データ処理方法を変えたりしても再度データ取得しなくて良くなります。\n",
        "\n",
        "このステップの実行には環境によって数十分ほど時間がかかります。"
      ]
    },
    {
      "cell_type": "code",
      "execution_count": null,
      "metadata": {
        "id": "hMFairulGJvf"
      },
      "outputs": [],
      "source": [
        "cli = jquantsapi.Client(refresh_token=refresh_token)\n",
        "\n",
        "# 銘柄一覧\n",
        "if not os.path.isfile(raw_stock_list_csvfile_path):\n",
        "    stock_list_load: pd.DataFrame = cli.get_list()\n",
        "    stock_list_load.to_csv(raw_stock_list_csvfile_path, compression=\"gzip\", index=False)\n",
        "stock_list_load: pd.DataFrame = pd.read_csv(raw_stock_list_csvfile_path, dtype=str)\n",
        "\n",
        "# 株価情報\n",
        "if not os.path.isfile(raw_stock_fins_csvfile_path):\n",
        "    stock_price_load: pd.DataFrame = cli.get_price_range(start_dt=start_dt, end_dt=end_dt)\n",
        "    stock_price_load.to_csv(raw_stock_fins_csvfile_path, compression=\"gzip\", index=False)\n",
        "stock_price_load: pd.DataFrame = pd.read_csv(raw_stock_fins_csvfile_path, dtype=str)\n",
        "\n",
        "# 財務情報\n",
        "if not os.path.isfile(raw_stock_price_csvfile_path):\n",
        "    stock_fin_load: pd.DataFrame = cli.get_statements_range(start_dt=start_dt, end_dt=end_dt)\n",
        "    stock_fin_load.to_csv(raw_stock_price_csvfile_path, compression=\"gzip\", index=False)\n",
        "stock_fin_load: pd.DataFrame = pd.read_csv(raw_stock_price_csvfile_path, dtype=str)"
      ]
    },
    {
      "cell_type": "markdown",
      "metadata": {
        "id": "r3vPKxGvD1oC"
      },
      "source": [
        "## データ処理\n",
        "\n",
        "過去にJ-Quants株式分析チュートリアルやデータ分析コンペティションで用いられたデータとの互換性をなるべく取るため、データの処理を行います。"
      ]
    },
    {
      "cell_type": "code",
      "execution_count": null,
      "metadata": {
        "id": "vbvojFwC7Hq1"
      },
      "outputs": [],
      "source": [
        "# 銘柄一覧と株価データから予測対象列を作成します\n",
        "# prediction_target は、プライム、スタンダード、グロースの 2022-01-01 以降の出来高上位2000銘柄とする\n",
        "target_list = stock_list_load.loc[stock_list_load[\"MarketCode\"].isin([\"A\", \"B\", \"C\"]), \"Code\"]\n",
        "pred_targets = (stock_price_load.loc[(stock_price_load[\"Date\"] >= \"2022-01-01\") & (stock_price_load[\"Code\"].isin(target_list)), [\"Code\", \"AdjustmentVolume\"]].groupby(\"Code\").sum()).sort_values(\"AdjustmentVolume\", ascending=False).head(2000).index\n",
        "stock_list_load[\"prediction_target\"] = stock_list_load[\"Code\"].isin(pred_targets)"
      ]
    },
    {
      "cell_type": "code",
      "execution_count": null,
      "metadata": {
        "id": "CAJSrS_TEOEX"
      },
      "outputs": [],
      "source": [
        "# 株価情報のobject型をdatetime64[ns]型に変換\n",
        "stock_price_load[\"Date\"] = pd.to_datetime(stock_price_load[\"Date\"])\n",
        "\n",
        "# 株価情報のいくつかがobject型になっているので数値型に変換\n",
        "stock_price_load[\"AdjustmentOpen\"] = stock_price_load[\"AdjustmentOpen\"].astype(np.float64)\n",
        "stock_price_load[\"AdjustmentHigh\"] = stock_price_load[\"AdjustmentHigh\"].astype(np.float64)\n",
        "stock_price_load[\"AdjustmentLow\"] = stock_price_load[\"AdjustmentLow\"].astype(np.float64)\n",
        "stock_price_load[\"AdjustmentClose\"] = stock_price_load[\"AdjustmentClose\"].astype(np.float64)\n",
        "\n",
        "# 財務情報のいくつかがobject型になっているので数値型に変換\n",
        "numeric_cols_fin = ['AverageNumberOfShares', 'BookValuePerShare', 'EarningsPerShare','Equity', 'EquityToAssetRatio',\n",
        "                'ForecastDividendPerShare1stQuarter', 'ForecastDividendPerShare2ndQuarter', 'ForecastDividendPerShare3rdQuarter',\n",
        "                'ForecastDividendPerShareAnnual', 'ForecastDividendPerShareFiscalYearEnd', 'ForecastEarningsPerShare', 'ForecastNetSales', 'ForecastOperatingProfit',\n",
        "                'ForecastOrdinaryProfit', 'ForecastProfit', 'NetSales', 'NumberOfIssuedAndOutstandingSharesAtTheEndOfFiscalYearIncludingTreasuryStock',\n",
        "                'OperatingProfit', 'OrdinaryProfit', 'Profit', 'ResultDividendPerShare1stQuarter','ResultDividendPerShare2ndQuarter','ResultDividendPerShare3rdQuarter',\n",
        "                'ResultDividendPerShareAnnual','ResultDividendPerShareFiscalYearEnd','TotalAssets']\n",
        "stock_fin_load[numeric_cols_fin] = stock_fin_load[numeric_cols_fin].apply(pd.to_numeric, errors='coerce', axis=1)\n",
        "\n",
        "# 財務情報のobject型をdatetime64[ns]型に変換\n",
        "stock_fin_load[\"DisclosedDate\"] = pd.to_datetime(stock_fin_load[\"DisclosedDate\"]) #開示\n",
        "stock_fin_load[\"CurrentFiscalYearEndDate\"] = pd.to_datetime(stock_fin_load[\"CurrentFiscalYearEndDate\"])  # 当事業年度終了日\n",
        "stock_fin_load[\"CurrentFiscalYearStartDate\"] = pd.to_datetime(stock_fin_load[\"CurrentFiscalYearStartDate\"])  # 当事業年度開始日\n",
        "stock_fin_load[\"CurrentPeriodEndDate\"] = pd.to_datetime(stock_fin_load[\"CurrentPeriodEndDate\"]) # 当会計期間終了日"
      ]
    },
    {
      "cell_type": "code",
      "execution_count": null,
      "metadata": {
        "id": "mgSgmblgR-PM"
      },
      "outputs": [],
      "source": [
        "# stock_list: データの互換性のための各種列名変換など\n",
        "stock_list: pd.DataFrame = pd.DataFrame()\n",
        "stock_list[\"Local Code\"] = stock_list_load[\"Code\"]\n",
        "stock_list[\"Name (English)\"] = stock_list_load[\"CompanyNameEnglish\"]\n",
        "stock_list[\"Section/Products\"] = stock_list_load[\"MarketName\"]\n",
        "stock_list[\"33 Sector(Code)\"] = stock_list_load[\"SectorCode\"]\n",
        "stock_list[\"33 Sector(Name)\"] = stock_list_load[\"SectorName\"]\n",
        "stock_list[\"prediction_target\"] = stock_list_load[\"prediction_target\"]"
      ]
    },
    {
      "cell_type": "code",
      "execution_count": null,
      "metadata": {
        "id": "7GtFRSQfGmWF"
      },
      "outputs": [],
      "source": [
        "# stock_price: データの互換性のための各種列名変換など\n",
        "stock_price: pd.DataFrame = pd.DataFrame()\n",
        "stock_price[\"Local Code\"] = stock_price_load[\"Code\"]\n",
        "#stock_price[\"Date\"] = stock_price_load[\"Date\"]\n",
        "stock_price[\"base_date\"] = stock_price_load[\"Date\"]\n",
        "stock_price['EndOfDayQuote Date'] = stock_price_load[\"Date\"]\n",
        "stock_price[\"EndOfDayQuote Open\"] = stock_price_load[\"AdjustmentOpen\"]\n",
        "stock_price[\"EndOfDayQuote High\"] = stock_price_load[\"AdjustmentHigh\"]\n",
        "stock_price[\"EndOfDayQuote Low\"] = stock_price_load[\"AdjustmentLow\"]\n",
        "stock_price[\"EndOfDayQuote Close\"] = stock_price_load[\"AdjustmentClose\"]\n",
        "stock_price[\"EndOfDayQuote ExchangeOfficialClose\"] = stock_price_load[\"AdjustmentClose\"]\n",
        "stock_price[\"EndOfDayQuote Volume\"] = stock_price_load[\"AdjustmentVolume\"]\n",
        "\n",
        "stock_price.sort_values([\"Local Code\", \"base_date\"], inplace=True)\n",
        "# ExchangeOfficialClose は欠損値がある場合は前日終値とします\n",
        "stock_price[\"EndOfDayQuote ExchangeOfficialClose\"] = stock_price.groupby([\"Local Code\"])[\"EndOfDayQuote ExchangeOfficialClose\"].ffill()\n",
        "# 前日終値の列を終値列から作成\n",
        "stock_price[\"EndOfDayQuote PreviousClose\"] = stock_price.groupby([\"Local Code\"])[\"EndOfDayQuote Close\"].shift(1)\n",
        "stock_price.head()"
      ]
    },
    {
      "cell_type": "code",
      "execution_count": null,
      "metadata": {
        "id": "YxCBYNiqG8i8"
      },
      "outputs": [],
      "source": [
        "# stock_financial: データの互換性のための各種列名変換など\n",
        "stock_fin: pd.DataFrame = pd.DataFrame()\n",
        "stock_fin[\"Local Code\"] = stock_fin_load[\"LocalCode\"]\n",
        "stock_fin[\"Result_FinancialStatement FiscalPeriodEnd\"] = stock_fin_load[\"CurrentFiscalYearEndDate\"]\n",
        "stock_fin[\"Result_FinancialStatement TotalAssets\"] = stock_fin_load[\"TotalAssets\"] # 総資産\n",
        "stock_fin[\"Result_FinancialStatement NetAssets\"] = stock_fin_load[\"Equity\"] # 純資産\n",
        "stock_fin[\"Result_FinancialStatement NetSales\"] = stock_fin_load[\"NetSales\"] # 純売上高\n",
        "stock_fin[\"Result_FinancialStatement OperatingIncome\"] = stock_fin_load[\"OperatingProfit\"] # 営業利益\n",
        "stock_fin[\"Result_FinancialStatement OrdinaryIncome\"] = stock_fin_load[\"OrdinaryProfit\"]  # 経常利益\n",
        "stock_fin[\"Result_FinancialStatement NetIncome\"] = stock_fin_load[\"Profit\"]  # 当期純利益\n",
        "stock_fin[\"Result_FinancialStatement ReportType\"] = stock_fin_load[\"TypeOfCurrentPeriod\"] # {\"1Q\", \"2Q\", \"3Q\", \"FY\"}\n",
        "stock_fin[\"base_date\"] = stock_fin_load[\"DisclosedDate\"] # 開示日\n",
        "stock_fin[\"TypeOfDocument\"] = stock_fin_load[\"TypeOfDocument\"] # 書類種別\n",
        "stock_fin[\"RetrospectiveRestatement\"] = stock_fin_load[\"RetrospectiveRestatement\"] #修正再表示フラグ\n",
        "stock_fin[\"Forecast_FinancialStatement FiscalPeriodEnd\"] = stock_fin_load[\"CurrentFiscalYearEndDate\"]\n",
        "stock_fin[\"Forecast_FinancialStatement ReportType\"] = stock_fin_load[\"TypeOfCurrentPeriod\"]\n",
        "stock_fin[\"Forecast_FinancialStatement NetSales\"] = stock_fin_load[\"ForecastNetSales\"]\n",
        "stock_fin[\"Forecast_FinancialStatement OperatingIncome\"] = stock_fin_load[\"ForecastOperatingProfit\"]\n",
        "stock_fin[\"Forecast_FinancialStatement NetIncome\"] = stock_fin_load[\"ForecastProfit\"]\n",
        "stock_fin[\"Forecast_FinancialStatement OrdinaryIncome\"] = stock_fin_load[\"ForecastOrdinaryProfit\"]\n",
        "\n",
        "stock_fin.head()"
      ]
    },
    {
      "cell_type": "markdown",
      "metadata": {
        "id": "PutHVi--7Uts"
      },
      "source": [
        "目的変数を作成します。"
      ]
    },
    {
      "cell_type": "code",
      "execution_count": null,
      "metadata": {
        "colab": {
          "background_save": true
        },
        "id": "57VQLikJ7Thm"
      },
      "outputs": [],
      "source": [
        "def create_label_high_low(stock_code:int, target_date:datetime, lookaheads:List[int], stock_price:pd.DataFrame):\n",
        "   #memo: 例えばtarget_dateが2022-08-01, lookaheads=[1,5,10]だった場合、stock_priceは2022-08-01より10営業日先のデータまではいってないといけない\n",
        "\n",
        "   #df_price = stock_price.loc[(stock_price[\"Local Code\"] == stock_code) & (stock_price[\"base_date\"] <= target_date)].copy()\n",
        "   df_price = stock_price.loc[stock_price[\"Local Code\"] == stock_code].copy()\n",
        "\n",
        "   output_columns = [\"base_date\", \"Local Code\"]\n",
        "   for lookahead in lookaheads:\n",
        "       output_columns.append(\"label_date_{}\".format(lookahead))\n",
        "       output_columns.append(\"label_high_{}\".format(lookahead))\n",
        "       output_columns.append(\"label_low_{}\".format(lookahead))\n",
        "       t_col = \"label_date_{}\".format(lookahead)\n",
        "       df_price.loc[:, t_col] = df_price.loc[:, \"base_date\"].shift(-lookahead)\n",
        "\n",
        "   if len(df_price) == 0:\n",
        "       return pd.DataFrame(None, columns=output_columns)\n",
        "\n",
        "   df_a_stock = df_price.loc[:, [\"EndOfDayQuote ExchangeOfficialClose\", \"EndOfDayQuote High\", \"EndOfDayQuote Low\"]].copy()\n",
        "\n",
        "   df_a_stock.loc[df_a_stock.loc[:, \"EndOfDayQuote High\"] == 0.0] = np.nan\n",
        "   df_a_stock.loc[df_a_stock.loc[:, \"EndOfDayQuote Low\"] == 0.0] = np.nan\n",
        "\n",
        "   for lookahead in lookaheads:\n",
        "       # df_high_high: base_dateからn営業日の間の高値の最大値\n",
        "       df_high_high = df_a_stock.loc[:, \"EndOfDayQuote High\"].rolling(lookahead).max()\n",
        "       df_high_high = df_high_high.shift(-lookahead)\n",
        "       df_high_high_diff = df_high_high - df_price.loc[:, \"EndOfDayQuote ExchangeOfficialClose\"]\n",
        "       df_price.loc[:, \"label_high_{}\".format(lookahead)] = df_high_high_diff / df_price.loc[:, \"EndOfDayQuote ExchangeOfficialClose\"]\n",
        "\n",
        "       # df_low_low: base_dateからn営業日の間の低音の最小値\n",
        "       df_low_low = df_a_stock.loc[:, \"EndOfDayQuote Low\"].rolling(lookahead).min()\n",
        "       df_low_low = df_low_low.shift(-lookahead)\n",
        "       df_low_low_diff = df_low_low - df_price.loc[:, \"EndOfDayQuote ExchangeOfficialClose\"]\n",
        "       df_price.loc[:, \"label_low_{}\".format(lookahead)] = df_low_low_diff / df_price.loc[:, \"EndOfDayQuote ExchangeOfficialClose\"]\n",
        "\n",
        "   df_price.replace(np.inf, np.nan, inplace=True)\n",
        "   df_price = df_price[df_price[\"base_date\"] <= target_date]\n",
        "   return df_price.loc[:, output_columns]\n",
        "\n",
        "def create_delivery_label_high_low(stock_codes:List[int], target_date:pd.Timestamp, lookaheads:List[int], stock_price:pd.DataFrame):\n",
        "   buff = []\n",
        "   for stock_code in stock_codes:\n",
        "       df = create_label_high_low(stock_code, target_date, lookaheads, stock_price)\n",
        "       buff.append(df)\n",
        "   df_labels = pd.concat(buff)\n",
        "   return df_labels\n",
        "\n",
        "def output_stock_labels(stock_labels_csvfile_path:str, df_labels:pd.DataFrame, output_start_dt, end_dt:datetime):\n",
        "   df_labels = df_labels.set_index(\"base_date\")\n",
        "   df_labels = df_labels.loc[df_labels.index <= end_dt].copy()\n",
        "   df_labels.index.name = \"base_date\"\n",
        "   df_labels_output = df_labels.loc[(df_labels.index >= output_start_dt) & (df_labels.index <= end_dt)]\n",
        "   label_output_columns = [\n",
        "       \"Local Code\",\n",
        "       \"label_date_5\",\n",
        "       \"label_high_5\",\n",
        "       \"label_low_5\",\n",
        "       \"label_date_10\",\n",
        "       \"label_high_10\",\n",
        "       \"label_low_10\",\n",
        "       \"label_date_20\",\n",
        "       \"label_high_20\",\n",
        "       \"label_low_20\",\n",
        "   ]\n",
        "   df_labels_output.to_csv(stock_labels_csvfile_path, compression=\"gzip\", float_format=\"%.5f\", columns=label_output_columns)\n",
        "\n",
        "\n",
        "stock_codes = sorted(stock_price[\"Local Code\"].unique())\n",
        "# デバッグ中\n",
        "# stock_codes = example_codes\n",
        "\n",
        "lookaheads = [5, 10, 20]\n",
        "stock_labels = create_delivery_label_high_low(stock_codes, end_dt, lookaheads, stock_price)"
      ]
    },
    {
      "cell_type": "markdown",
      "metadata": {
        "collapsed": false,
        "id": "b0cTjYpcGJvf"
      },
      "source": [
        "## GoogleDriveへのCSV保存\n",
        "\n",
        "取得したデータをcsv.gz形式で保存します。\n",
        "stock_priceおよびstock_listが巨大なファイル（非圧縮, 2017-01-01〜2022-07-31の期間だと540MB程度)なので、保存には10分ほどかかることがあります。"
      ]
    },
    {
      "cell_type": "code",
      "execution_count": null,
      "metadata": {
        "colab": {
          "background_save": true
        },
        "id": "JHQwYAw-GJvf"
      },
      "outputs": [],
      "source": [
        "stock_list.to_csv(stock_list_csvfile_path, compression=\"gzip\", index=False)\n",
        "stock_price.to_csv(stock_price_csvfile_path, compression=\"gzip\", index=False)\n",
        "stock_fin.to_csv(stock_fins_csvfile_path, compression=\"gzip\", index=False)\n",
        "output_stock_labels(stock_labels_csvfile_path, stock_labels, start_dt, end_dt)"
      ]
    },
    {
      "cell_type": "markdown",
      "metadata": {
        "collapsed": false,
        "id": "4Os9lzpwGJvf"
      },
      "source": [
        "このnotebookはデータ保存までで終了です。\n",
        "\n",
        "保存したデータを使用することで「株式分析チュートリアル」の第2章のJupyterノートブックを実行することができます。ご活用ください！\n",
        "\n",
        "株式分析チュートリアル\n",
        "\n",
        "https://japanexchangegroup.github.io/J-Quants-Tutorial/\n",
        "\n",
        "第2章のJupyterノートブック\n",
        "\n",
        "https://github.com/JapanExchangeGroup/J-Quants-Tutorial/blob/main/handson/Chapter02/20210121-chapter02-tutorial.ipynb"
      ]
    },
    {
      "cell_type": "code",
      "execution_count": null,
      "metadata": {
        "colab": {
          "background_save": true
        },
        "id": "jNx_gVLBXiWC"
      },
      "outputs": [],
      "source": []
    }
  ],
  "metadata": {
    "colab": {
      "collapsed_sections": [],
      "provenance": []
    },
    "kernelspec": {
      "display_name": "Python 3",
      "language": "python",
      "name": "python3"
    },
    "language_info": {
      "codemirror_mode": {
        "name": "ipython",
        "version": 2
      },
      "file_extension": ".py",
      "mimetype": "text/x-python",
      "name": "python",
      "nbconvert_exporter": "python",
      "pygments_lexer": "ipython2",
      "version": "2.7.6"
    }
  },
  "nbformat": 4,
  "nbformat_minor": 0
}