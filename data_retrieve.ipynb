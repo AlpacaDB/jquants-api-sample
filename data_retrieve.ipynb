{
 "cells": [
  {
   "cell_type": "markdown",
   "source": [
    "[![Open In Colab](https://colab.research.google.com/assets/colab-badge.svg)](https://colab.research.google.com/github/dakimura/jquants-sample/blob/main/data_retrieve.ipynb)"
   ],
   "metadata": {
    "collapsed": false,
    "pycharm": {
     "name": "#%% md\n"
    },
    "id": "EliGb_8tGJva"
   }
  },
  {
   "cell_type": "markdown",
   "metadata": {
    "collapsed": true,
    "pycharm": {
     "name": "#%% md\n"
    },
    "id": "3CyAgtw7GJvc"
   },
   "source": [
    "# J-Quants APIを用いた分析用データ取得\n",
    "\n",
    "本ノートブックでは、データ分析に先立って\n",
    "分析で必要となる株価・財務情報データをJ-Quants APIを使用して取得し、\n",
    "保存するところまでを行います。\n",
    "Google Colab上で動作確認を行っています。\n"
   ]
  },
  {
   "cell_type": "markdown",
   "source": [
    "## リフレッシュトークンの取得\n",
    "J-Quants APIを利用するためには [J-Quants API の Web サイト](https://application.jpx-jquants.com/) から取得できるリフレッシュトークンが必要になります。\n",
    "会員登録とリフレッシュトークンの取得を完了させてから次に進みます。"
   ],
   "metadata": {
    "collapsed": false,
    "pycharm": {
     "name": "#%% md\n"
    },
    "id": "XKtXotmbGJvc"
   }
  },
  {
   "cell_type": "markdown",
   "source": [
    "必要なライブラリのinstall/importと設定を行います。"
   ],
   "metadata": {
    "collapsed": false,
    "pycharm": {
     "name": "#%% md\n"
    },
    "id": "yW05JPyuGJvd"
   }
  },
  {
   "cell_type": "code",
   "execution_count": 2,
   "outputs": [
    {
     "output_type": "stream",
     "name": "stdout",
     "text": [
      "Looking in indexes: https://pypi.org/simple, https://us-python.pkg.dev/colab-wheels/public/simple/\n",
      "Requirement already satisfied: numpy in /usr/local/lib/python3.7/dist-packages (1.21.6)\n",
      "Requirement already satisfied: pandas in /usr/local/lib/python3.7/dist-packages (1.3.5)\n",
      "Requirement already satisfied: requests in /usr/local/lib/python3.7/dist-packages (2.23.0)\n",
      "Requirement already satisfied: jquants-api-client==0.1.2 in /usr/local/lib/python3.7/dist-packages (0.1.2)\n",
      "Requirement already satisfied: types-python-dateutil<3.0.0,>=2.8.19 in /usr/local/lib/python3.7/dist-packages (from jquants-api-client==0.1.2) (2.8.19)\n",
      "Requirement already satisfied: urllib3<2.0.0,>=1.24.3 in /usr/local/lib/python3.7/dist-packages (from jquants-api-client==0.1.2) (1.24.3)\n",
      "Requirement already satisfied: types-requests<3.0.0,>=2.28.5 in /usr/local/lib/python3.7/dist-packages (from jquants-api-client==0.1.2) (2.28.9)\n",
      "Requirement already satisfied: python-dateutil>=2.7.3 in /usr/local/lib/python3.7/dist-packages (from pandas) (2.8.2)\n",
      "Requirement already satisfied: pytz>=2017.3 in /usr/local/lib/python3.7/dist-packages (from pandas) (2022.2.1)\n",
      "Requirement already satisfied: chardet<4,>=3.0.2 in /usr/local/lib/python3.7/dist-packages (from requests) (3.0.4)\n",
      "Requirement already satisfied: certifi>=2017.4.17 in /usr/local/lib/python3.7/dist-packages (from requests) (2022.6.15)\n",
      "Requirement already satisfied: idna<3,>=2.5 in /usr/local/lib/python3.7/dist-packages (from requests) (2.10)\n",
      "Requirement already satisfied: six>=1.5 in /usr/local/lib/python3.7/dist-packages (from python-dateutil>=2.7.3->pandas) (1.15.0)\n",
      "Requirement already satisfied: types-urllib3<1.27 in /usr/local/lib/python3.7/dist-packages (from types-requests<3.0.0,>=2.28.5->jquants-api-client==0.1.2) (1.26.24)\n"
     ]
    }
   ],
   "source": [
    "!pip install numpy pandas requests jquants-api-client==0.1.2\n",
    "\n",
    "import getpass\n",
    "from requests import HTTPError\n",
    "from datetime import datetime\n",
    "\n",
    "import jquantsapi\n",
    "import pandas as pd\n",
    "import numpy as np\n",
    "from dateutil import tz\n",
    "\n",
    "# --- コンフィグ ---\n",
    "# Googleドライブをマウントするディレクトリ\n",
    "GOOGLE_DRIVE_MOUNT_DIR_PATH = \"/content/drive/\"\n",
    "\n",
    "# データを保存するGoogleドライブ上のディレクトリ\n",
    "STORAGE_DIR_PATH = \"/content/drive/MyDrive/drive_ws/marketdata\"\n",
    "\n",
    "# 各種CSVデータを保存するファイルパス\n",
    "stock_fins_csvfile_path = STORAGE_DIR_PATH + \"/stock_fin.csv.gz\"\n",
    "stock_price_csvfile_path = STORAGE_DIR_PATH + \"/stock_price.csv.gz\"\n",
    "\n",
    "# J-Quants API から取得するデータの期間\n",
    "start_dt: datetime = datetime(2017, 1, 1)\n",
    "# デバッグ中は短い期間を使う\n",
    "#start_dt: datetime = datetime(2022, 3, 1)\n",
    "\n",
    "end_dt: datetime = datetime(2022, 8, 31)"
   ],
   "metadata": {
    "pycharm": {
     "name": "#%%\n"
    },
    "colab": {
     "base_uri": "https://localhost:8080/"
    },
    "id": "UL4Jo8m2GJvd",
    "outputId": "be286454-add0-42a4-ca4b-0d27c569e8a1"
   }
  },
  {
   "cell_type": "code",
   "source": [
    "# Googleドライブをマウント\n",
    "from google.colab import drive\n",
    "drive.mount('/content/drive')"
   ],
   "metadata": {
    "id": "757Ajii9ONBQ",
    "pycharm": {
     "name": "#%%\n"
    },
    "outputId": "a5e6a0f8-8976-4d1e-829f-fbc7c71a2cb4",
    "colab": {
     "base_uri": "https://localhost:8080/"
    }
   },
   "execution_count": 3,
   "outputs": [
    {
     "output_type": "stream",
     "name": "stdout",
     "text": [
      "Mounted at /content/drive\n"
     ]
    }
   ]
  },
  {
   "cell_type": "markdown",
   "source": [
    "入力ボックスに https://application.jpx-jquants.com/ から取得したJ-Quants APIのリフレッシュトークンを入力してください。"
   ],
   "metadata": {
    "collapsed": false,
    "pycharm": {
     "name": "#%% md\n"
    },
    "id": "qgVoql6RGJve"
   }
  },
  {
   "cell_type": "code",
   "execution_count": 4,
   "outputs": [
    {
     "output_type": "stream",
     "name": "stdout",
     "text": [
      "J-Quants Refresh Token:··········\n",
      "refresh_tokenは正常です。次の手順に進んでください。\n"
     ]
    }
   ],
   "source": [
    "refresh_token = getpass.getpass(prompt=\"J-Quants Refresh Token:\")\n",
    "# リフレッシュトークンを使用できるか検証します。\n",
    "test_cli = jquantsapi.Client(refresh_token=refresh_token)\n",
    "try:\n",
    "    id_token = test_cli.get_id_token()\n",
    "    if len(id_token) > 0:\n",
    "        print(\"refresh_tokenは正常です。次の手順に進んでください。\")\n",
    "except HTTPError:\n",
    "    print(\"refresh_tokenを使用できません。再度値を確認してください。\")"
   ],
   "metadata": {
    "pycharm": {
     "name": "#%%\n"
    },
    "colab": {
     "base_uri": "https://localhost:8080/"
    },
    "id": "i1ADs91SGJve",
    "outputId": "c976a79e-195a-44ec-fd2c-a62b0bc5885c"
   }
  },
  {
   "cell_type": "markdown",
   "source": [
    "## データのダウンロード\n",
    "\n",
    "データ取得期間(start_dt <= 時刻 <= end_dt) の\n",
    "全銘柄の価格と財務情報データを取得します。\n",
    "このステップの実行には環境によって数十分ほど時間がかかります。"
   ],
   "metadata": {
    "collapsed": false,
    "pycharm": {
     "name": "#%% md\n"
    },
    "id": "xaknOIQQGJve"
   }
  },
  {
   "cell_type": "code",
   "execution_count": 6,
   "outputs": [
    {
     "output_type": "stream",
     "name": "stdout",
     "text": [
      "100 / 184\n"
     ]
    }
   ],
   "source": [
    "cli = jquantsapi.Client(refresh_token=refresh_token)\n",
    "stock_price_load: pd.DataFrame = cli.get_price_range(start_dt=start_dt, end_dt=end_dt)\n",
    "stock_fin_load: pd.DataFrame = cli.get_statements_range(start_dt=start_dt, end_dt=end_dt)"
   ],
   "metadata": {
    "pycharm": {
     "name": "#%%\n"
    },
    "colab": {
     "base_uri": "https://localhost:8080/"
    },
    "id": "hMFairulGJvf",
    "outputId": "ae83eef9-bff9-44bb-d84f-31843103e2a5"
   }
  },
  {
   "cell_type": "markdown",
   "source": [
    "## データ処理\n",
    "\n",
    "過去にJ-Quants株式分析チュートリアルやデータ分析コンペティションで用いられたデータとの互換性をなるべく取るため、データの処理を行います。"
   ],
   "metadata": {
    "id": "r3vPKxGvD1oC",
    "pycharm": {
     "name": "#%% md\n"
    }
   }
  },
  {
   "cell_type": "code",
   "source": [
    "# 財務情報のいくつかがobject型になっているので数値型に変換\n",
    "numeric_cols_fin = ['AverageNumberOfShares', 'BookValuePerShare', 'EarningsPerShare','Equity', 'EquityToAssetRatio',\n",
    "                'ForecastDividendPerShare1stQuarter', 'ForecastDividendPerShare2ndQuarter', 'ForecastDividendPerShare3rdQuarter',\n",
    "                'ForecastDividendPerShareAnnual', 'ForecastDividendPerShareFiscalYearEnd', 'ForecastEarningsPerShare', 'ForecastNetSales', 'ForecastOperatingProfit',\n",
    "                'ForecastOrdinaryProfit', 'ForecastProfit', 'NetSales', 'NumberOfIssuedAndOutstandingSharesAtTheEndOfFiscalYearIncludingTreasuryStock',\n",
    "                'OperatingProfit', 'OrdinaryProfit', 'Profit', 'ResultDividendPerShare1stQuarter','ResultDividendPerShare2ndQuarter','ResultDividendPerShare3rdQuarter',\n",
    "                'ResultDividendPerShareAnnual','ResultDividendPerShareFiscalYearEnd','TotalAssets']\n",
    "stock_fin_load[numeric_cols_fin] = stock_fin_load[numeric_cols_fin].apply(pd.to_numeric, errors='coerce', axis=1)\n",
    "\n",
    "# object型をdatetime64[ns]型に変換\n",
    "stock_price_load[\"Date\"] = pd.to_datetime(stock_price_load[\"Date\"])\n",
    "stock_fin_load[\"DisclosedDate\"] = pd.to_datetime(stock_fin_load[\"DisclosedDate\"]) #開示\n",
    "stock_fin_load[\"CurrentFiscalYearEndDate\"] = pd.to_datetime(stock_fin_load[\"CurrentFiscalYearEndDate\"])  # 当事業年度終了日\n",
    "stock_fin_load[\"CurrentFiscalYearStartDate\"] = pd.to_datetime(stock_fin_load[\"CurrentFiscalYearStartDate\"])  # 当事業年度開始日\n",
    "stock_fin_load[\"CurrentPeriodEndDate\"] = pd.to_datetime(stock_fin_load[\"CurrentPeriodEndDate\"]) # 当会計期間終了日"
   ],
   "metadata": {
    "id": "CAJSrS_TEOEX",
    "pycharm": {
     "name": "#%%\n"
    }
   },
   "execution_count": 11,
   "outputs": []
  },
  {
   "cell_type": "code",
   "source": [
    "# stock_price: データの互換性のための各種列名変換など\n",
    "stock_price: pd.DataFrame = pd.DataFrame()\n",
    "stock_price[\"Local Code\"] = stock_price_load[\"Code\"]\n",
    "#stock_price[\"Date\"] = stock_price_load[\"Date\"]\n",
    "stock_price[\"base_date\"] = stock_price_load[\"Date\"]\n",
    "stock_price['EndOfDayQuote Date'] = stock_price_load[\"Date\"]\n",
    "stock_price[\"EndOfDayQuote Open\"] = stock_price_load[\"AdjustmentOpen\"].replace({0.0: np.nan})\n",
    "stock_price[\"EndOfDayQuote High\"] = stock_price_load[\"AdjustmentHigh\"].replace({0.0: np.nan})\n",
    "stock_price[\"EndOfDayQuote Low\"] = stock_price_load[\"AdjustmentLow\"].replace({0.0: np.nan})\n",
    "stock_price[\"EndOfDayQuote Close\"] = stock_price_load[\"AdjustmentClose\"].replace({0.0: np.nan})\n",
    "stock_price[\"EndOfDayQuote ExchangeOfficialClose\"] = stock_price_load[\"AdjustmentClose\"].replace({0.0: np.nan})\n",
    "stock_price[\"EndOfDayQuote Volume\"] = stock_price_load[\"AdjustmentVolume\"]\n",
    "\n",
    "# stock_price[\"EndOfDayQuote Open\"][stock_price[\"EndOfDayQuote Close\"] == 0] = \\\n",
    "#     stock_price[\"EndOfDayQuote ExchangeOfficialClose\"]\n",
    "# stock_price[\"EndOfDayQuote High\"][stock_price[\"EndOfDayQuote Close\"] == 0] = \\\n",
    "#     stock_price[\"EndOfDayQuote ExchangeOfficialClose\"]\n",
    "# stock_price[\"EndOfDayQuote Low\"][stock_price[\"EndOfDayQuote Close\"] == 0] = \\\n",
    "#     stock_price[\"EndOfDayQuote ExchangeOfficialClose\"]\n",
    "# stock_price[\"EndOfDayQuote Close\"][stock_price[\"EndOfDayQuote Close\"] == 0] = \\\n",
    "#     stock_price[\"EndOfDayQuote ExchangeOfficialClose\"]\n",
    "\n",
    "# 前日終値の列を終値列から作成\n",
    "stock_price[\"EndOfDayQuote PreviousClose\"] = stock_price.groupby([\"Local Code\"])[\"EndOfDayQuote Close\"].shift(1)"
   ],
   "metadata": {
    "id": "7GtFRSQfGmWF",
    "pycharm": {
     "name": "#%%\n"
    }
   },
   "execution_count": 12,
   "outputs": []
  },
  {
   "cell_type": "code",
   "source": [
    "# stock_financial: データの互換性のための各種列名変換など\n",
    "stock_fin: pd.DataFrame = pd.DataFrame()\n",
    "stock_fin[\"Local Code\"] = stock_fin_load[\"LocalCode\"]\n",
    "stock_fin[\"Result_FinancialStatement FiscalPeriodEnd\"] = stock_fin_load[\"CurrentFiscalYearEndDate\"]\n",
    "stock_fin[\"Result_FinancialStatement TotalAssets\"] = stock_fin_load[\"TotalAssets\"] # 総資産\n",
    "stock_fin[\"Result_FinancialStatement NetAssets\"] = stock_fin_load[\"Equity\"] # 純資産\n",
    "stock_fin[\"Result_FinancialStatement NetSales\"] = stock_fin_load[\"NetSales\"] # 純売上高\n",
    "stock_fin[\"Result_FinancialStatement OperatingIncome\"] = stock_fin_load[\"OperatingProfit\"] # 営業利益\n",
    "stock_fin[\"Result_FinancialStatement OrdinaryIncome\"] = stock_fin_load[\"OrdinaryProfit\"]  # 経常利益\n",
    "stock_fin[\"Result_FinancialStatement NetIncome\"] = stock_fin_load[\"Profit\"]  # 当期純利益\n",
    "stock_fin[\"Result_FinancialStatement ReportType\"] = stock_fin_load[\"TypeOfCurrentPeriod\"] # {\"1Q\", \"2Q\", \"3Q\", \"FY\"}\n",
    "stock_fin[\"base_date\"] = stock_fin_load[\"DisclosedDate\"] # 開示日\n",
    "stock_fin[\"TypeOfDocument\"] = stock_fin_load[\"TypeOfDocument\"] # 書類種別\n",
    "stock_fin[\"RetrospectiveRestatement\"] = stock_fin_load[\"RetrospectiveRestatement\"] #修正再表示フラグ\n",
    "stock_fin[\"Forecast_FinancialStatement FiscalPeriodEnd\"] = stock_fin_load[\"CurrentFiscalYearEndDate\"]\n",
    "stock_fin[\"Forecast_FinancialStatement ReportType\"] = stock_fin_load[\"TypeOfCurrentPeriod\"]\n",
    "stock_fin[\"Forecast_FinancialStatement NetSales\"] = stock_fin_load[\"ForecastNetSales\"]\n",
    "stock_fin[\"Forecast_FinancialStatement OperatingIncome\"] = stock_fin_load[\"ForecastOperatingProfit\"]\n",
    "stock_fin[\"Forecast_FinancialStatement NetIncome\"] = stock_fin_load[\"ForecastProfit\"]\n",
    "stock_fin[\"Forecast_FinancialStatement OrdinaryIncome\"] = stock_fin_load[\"ForecastOrdinaryProfit\"]\n",
    "\n",
    "stock_fin"
   ],
   "metadata": {
    "id": "YxCBYNiqG8i8",
    "outputId": "f5d9517e-1faf-493c-c02d-602be5d1645a",
    "colab": {
     "base_uri": "https://localhost:8080/",
     "height": 679
    },
    "pycharm": {
     "name": "#%%\n"
    }
   },
   "execution_count": 13,
   "outputs": [
    {
     "output_type": "execute_result",
     "data": {
      "text/plain": [
       "   Local Code Result_FinancialStatement FiscalPeriodEnd  \\\n",
       "5       72310                                2022-03-31   \n",
       "0       70670                                2022-03-31   \n",
       "1       85580                                2022-03-31   \n",
       "3       39940                                2022-11-30   \n",
       "4       25930                                2022-04-30   \n",
       "..        ...                                       ...   \n",
       "3       80680                                2023-01-31   \n",
       "0       46530                                2022-03-31   \n",
       "4       43710                                2022-12-31   \n",
       "5       46530                                2023-03-31   \n",
       "7       67520                                2023-03-31   \n",
       "\n",
       "    Result_FinancialStatement TotalAssets  \\\n",
       "5                                     NaN   \n",
       "0                                     NaN   \n",
       "1                                     NaN   \n",
       "3                                     NaN   \n",
       "4                            3.250440e+11   \n",
       "..                                    ...   \n",
       "3                                     NaN   \n",
       "0                            2.239600e+10   \n",
       "4                            4.400282e+09   \n",
       "5                                     NaN   \n",
       "7                                     NaN   \n",
       "\n",
       "    Result_FinancialStatement NetAssets  Result_FinancialStatement NetSales  \\\n",
       "5                                   NaN                                 NaN   \n",
       "0                                   NaN                                 NaN   \n",
       "1                                   NaN                                 NaN   \n",
       "3                                   NaN                                 NaN   \n",
       "4                          1.587270e+11                        3.036260e+11   \n",
       "..                                  ...                                 ...   \n",
       "3                                   NaN                                 NaN   \n",
       "0                          1.255300e+10                        2.878300e+10   \n",
       "4                          2.506768e+09                        7.169660e+08   \n",
       "5                                   NaN                                 NaN   \n",
       "7                                   NaN                                 NaN   \n",
       "\n",
       "    Result_FinancialStatement OperatingIncome  \\\n",
       "5                                         NaN   \n",
       "0                                         NaN   \n",
       "1                                         NaN   \n",
       "3                                         NaN   \n",
       "4                                1.411100e+10   \n",
       "..                                        ...   \n",
       "3                                         NaN   \n",
       "0                                1.228000e+09   \n",
       "4                                6.906530e+08   \n",
       "5                                         NaN   \n",
       "7                                         NaN   \n",
       "\n",
       "    Result_FinancialStatement OrdinaryIncome  \\\n",
       "5                                        NaN   \n",
       "0                                        NaN   \n",
       "1                                        NaN   \n",
       "3                                        NaN   \n",
       "4                               1.465600e+10   \n",
       "..                                       ...   \n",
       "3                                        NaN   \n",
       "0                               1.244000e+09   \n",
       "4                               7.147880e+08   \n",
       "5                                        NaN   \n",
       "7                                        NaN   \n",
       "\n",
       "    Result_FinancialStatement NetIncome Result_FinancialStatement ReportType  \\\n",
       "5                                   NaN                                   FY   \n",
       "0                                   NaN                                   FY   \n",
       "1                                   NaN                                   FY   \n",
       "3                                   NaN                                   1Q   \n",
       "4                          1.033800e+10                                   3Q   \n",
       "..                                  ...                                  ...   \n",
       "3                                   NaN                                   FY   \n",
       "0                          4.360000e+08                                   FY   \n",
       "4                                   NaN                                   2Q   \n",
       "5                                   NaN                                   FY   \n",
       "7                                   NaN                                   FY   \n",
       "\n",
       "    base_date                         TypeOfDocument RetrospectiveRestatement  \\\n",
       "5  2022-03-01                       ForecastRevision                            \n",
       "0  2022-03-01                       ForecastRevision                            \n",
       "1  2022-03-01                       ForecastRevision                            \n",
       "3  2022-03-01                       ForecastRevision                            \n",
       "4  2022-03-01  3QFinancialStatements_Consolidated_JP                    false   \n",
       "..        ...                                    ...                      ...   \n",
       "3  2022-08-31                       ForecastRevision                            \n",
       "0  2022-08-31                    NumericalCorrection                    false   \n",
       "4  2022-08-31                    NumericalCorrection                            \n",
       "5  2022-08-31                       ForecastRevision                            \n",
       "7  2022-08-31                       ForecastRevision                            \n",
       "\n",
       "   Forecast_FinancialStatement FiscalPeriodEnd  \\\n",
       "5                                   2022-03-31   \n",
       "0                                   2022-03-31   \n",
       "1                                   2022-03-31   \n",
       "3                                   2022-11-30   \n",
       "4                                   2022-04-30   \n",
       "..                                         ...   \n",
       "3                                   2023-01-31   \n",
       "0                                   2022-03-31   \n",
       "4                                   2022-12-31   \n",
       "5                                   2023-03-31   \n",
       "7                                   2023-03-31   \n",
       "\n",
       "   Forecast_FinancialStatement ReportType  \\\n",
       "5                                      FY   \n",
       "0                                      FY   \n",
       "1                                      FY   \n",
       "3                                      1Q   \n",
       "4                                      3Q   \n",
       "..                                    ...   \n",
       "3                                      FY   \n",
       "0                                      FY   \n",
       "4                                      2Q   \n",
       "5                                      FY   \n",
       "7                                      FY   \n",
       "\n",
       "    Forecast_FinancialStatement NetSales  \\\n",
       "5                           1.690000e+11   \n",
       "0                                    NaN   \n",
       "1                                    NaN   \n",
       "3                                    NaN   \n",
       "4                           4.031000e+11   \n",
       "..                                   ...   \n",
       "3                           1.130000e+11   \n",
       "0                           3.272900e+10   \n",
       "4                                    NaN   \n",
       "5                                    NaN   \n",
       "7                                    NaN   \n",
       "\n",
       "    Forecast_FinancialStatement OperatingIncome  \\\n",
       "5                                 -2.700000e+09   \n",
       "0                                           NaN   \n",
       "1                                           NaN   \n",
       "3                                           NaN   \n",
       "4                                  2.000000e+10   \n",
       "..                                          ...   \n",
       "3                                  3.600000e+09   \n",
       "0                                  1.653000e+09   \n",
       "4                                           NaN   \n",
       "5                                           NaN   \n",
       "7                                           NaN   \n",
       "\n",
       "    Forecast_FinancialStatement NetIncome  \\\n",
       "5                            5.000000e+08   \n",
       "0                                     NaN   \n",
       "1                                     NaN   \n",
       "3                                     NaN   \n",
       "4                            1.280000e+10   \n",
       "..                                    ...   \n",
       "3                            2.350000e+09   \n",
       "0                            1.005000e+09   \n",
       "4                                     NaN   \n",
       "5                                     NaN   \n",
       "7                                     NaN   \n",
       "\n",
       "    Forecast_FinancialStatement OrdinaryIncome  \n",
       "5                                -2.000000e+08  \n",
       "0                                          NaN  \n",
       "1                                          NaN  \n",
       "3                                          NaN  \n",
       "4                                 1.980000e+10  \n",
       "..                                         ...  \n",
       "3                                 3.400000e+09  \n",
       "0                                 1.514000e+09  \n",
       "4                                          NaN  \n",
       "5                                          NaN  \n",
       "7                                          NaN  \n",
       "\n",
       "[9545 rows x 18 columns]"
      ],
      "text/html": [
       "\n",
       "  <div id=\"df-d7155fd9-308d-4939-8574-27bf5dcfabc9\">\n",
       "    <div class=\"colab-df-container\">\n",
       "      <div>\n",
       "<style scoped>\n",
       "    .dataframe tbody tr th:only-of-type {\n",
       "        vertical-align: middle;\n",
       "    }\n",
       "\n",
       "    .dataframe tbody tr th {\n",
       "        vertical-align: top;\n",
       "    }\n",
       "\n",
       "    .dataframe thead th {\n",
       "        text-align: right;\n",
       "    }\n",
       "</style>\n",
       "<table border=\"1\" class=\"dataframe\">\n",
       "  <thead>\n",
       "    <tr style=\"text-align: right;\">\n",
       "      <th></th>\n",
       "      <th>Local Code</th>\n",
       "      <th>Result_FinancialStatement FiscalPeriodEnd</th>\n",
       "      <th>Result_FinancialStatement TotalAssets</th>\n",
       "      <th>Result_FinancialStatement NetAssets</th>\n",
       "      <th>Result_FinancialStatement NetSales</th>\n",
       "      <th>Result_FinancialStatement OperatingIncome</th>\n",
       "      <th>Result_FinancialStatement OrdinaryIncome</th>\n",
       "      <th>Result_FinancialStatement NetIncome</th>\n",
       "      <th>Result_FinancialStatement ReportType</th>\n",
       "      <th>base_date</th>\n",
       "      <th>TypeOfDocument</th>\n",
       "      <th>RetrospectiveRestatement</th>\n",
       "      <th>Forecast_FinancialStatement FiscalPeriodEnd</th>\n",
       "      <th>Forecast_FinancialStatement ReportType</th>\n",
       "      <th>Forecast_FinancialStatement NetSales</th>\n",
       "      <th>Forecast_FinancialStatement OperatingIncome</th>\n",
       "      <th>Forecast_FinancialStatement NetIncome</th>\n",
       "      <th>Forecast_FinancialStatement OrdinaryIncome</th>\n",
       "    </tr>\n",
       "  </thead>\n",
       "  <tbody>\n",
       "    <tr>\n",
       "      <th>5</th>\n",
       "      <td>72310</td>\n",
       "      <td>2022-03-31</td>\n",
       "      <td>NaN</td>\n",
       "      <td>NaN</td>\n",
       "      <td>NaN</td>\n",
       "      <td>NaN</td>\n",
       "      <td>NaN</td>\n",
       "      <td>NaN</td>\n",
       "      <td>FY</td>\n",
       "      <td>2022-03-01</td>\n",
       "      <td>ForecastRevision</td>\n",
       "      <td></td>\n",
       "      <td>2022-03-31</td>\n",
       "      <td>FY</td>\n",
       "      <td>1.690000e+11</td>\n",
       "      <td>-2.700000e+09</td>\n",
       "      <td>5.000000e+08</td>\n",
       "      <td>-2.000000e+08</td>\n",
       "    </tr>\n",
       "    <tr>\n",
       "      <th>0</th>\n",
       "      <td>70670</td>\n",
       "      <td>2022-03-31</td>\n",
       "      <td>NaN</td>\n",
       "      <td>NaN</td>\n",
       "      <td>NaN</td>\n",
       "      <td>NaN</td>\n",
       "      <td>NaN</td>\n",
       "      <td>NaN</td>\n",
       "      <td>FY</td>\n",
       "      <td>2022-03-01</td>\n",
       "      <td>ForecastRevision</td>\n",
       "      <td></td>\n",
       "      <td>2022-03-31</td>\n",
       "      <td>FY</td>\n",
       "      <td>NaN</td>\n",
       "      <td>NaN</td>\n",
       "      <td>NaN</td>\n",
       "      <td>NaN</td>\n",
       "    </tr>\n",
       "    <tr>\n",
       "      <th>1</th>\n",
       "      <td>85580</td>\n",
       "      <td>2022-03-31</td>\n",
       "      <td>NaN</td>\n",
       "      <td>NaN</td>\n",
       "      <td>NaN</td>\n",
       "      <td>NaN</td>\n",
       "      <td>NaN</td>\n",
       "      <td>NaN</td>\n",
       "      <td>FY</td>\n",
       "      <td>2022-03-01</td>\n",
       "      <td>ForecastRevision</td>\n",
       "      <td></td>\n",
       "      <td>2022-03-31</td>\n",
       "      <td>FY</td>\n",
       "      <td>NaN</td>\n",
       "      <td>NaN</td>\n",
       "      <td>NaN</td>\n",
       "      <td>NaN</td>\n",
       "    </tr>\n",
       "    <tr>\n",
       "      <th>3</th>\n",
       "      <td>39940</td>\n",
       "      <td>2022-11-30</td>\n",
       "      <td>NaN</td>\n",
       "      <td>NaN</td>\n",
       "      <td>NaN</td>\n",
       "      <td>NaN</td>\n",
       "      <td>NaN</td>\n",
       "      <td>NaN</td>\n",
       "      <td>1Q</td>\n",
       "      <td>2022-03-01</td>\n",
       "      <td>ForecastRevision</td>\n",
       "      <td></td>\n",
       "      <td>2022-11-30</td>\n",
       "      <td>1Q</td>\n",
       "      <td>NaN</td>\n",
       "      <td>NaN</td>\n",
       "      <td>NaN</td>\n",
       "      <td>NaN</td>\n",
       "    </tr>\n",
       "    <tr>\n",
       "      <th>4</th>\n",
       "      <td>25930</td>\n",
       "      <td>2022-04-30</td>\n",
       "      <td>3.250440e+11</td>\n",
       "      <td>1.587270e+11</td>\n",
       "      <td>3.036260e+11</td>\n",
       "      <td>1.411100e+10</td>\n",
       "      <td>1.465600e+10</td>\n",
       "      <td>1.033800e+10</td>\n",
       "      <td>3Q</td>\n",
       "      <td>2022-03-01</td>\n",
       "      <td>3QFinancialStatements_Consolidated_JP</td>\n",
       "      <td>false</td>\n",
       "      <td>2022-04-30</td>\n",
       "      <td>3Q</td>\n",
       "      <td>4.031000e+11</td>\n",
       "      <td>2.000000e+10</td>\n",
       "      <td>1.280000e+10</td>\n",
       "      <td>1.980000e+10</td>\n",
       "    </tr>\n",
       "    <tr>\n",
       "      <th>...</th>\n",
       "      <td>...</td>\n",
       "      <td>...</td>\n",
       "      <td>...</td>\n",
       "      <td>...</td>\n",
       "      <td>...</td>\n",
       "      <td>...</td>\n",
       "      <td>...</td>\n",
       "      <td>...</td>\n",
       "      <td>...</td>\n",
       "      <td>...</td>\n",
       "      <td>...</td>\n",
       "      <td>...</td>\n",
       "      <td>...</td>\n",
       "      <td>...</td>\n",
       "      <td>...</td>\n",
       "      <td>...</td>\n",
       "      <td>...</td>\n",
       "      <td>...</td>\n",
       "    </tr>\n",
       "    <tr>\n",
       "      <th>3</th>\n",
       "      <td>80680</td>\n",
       "      <td>2023-01-31</td>\n",
       "      <td>NaN</td>\n",
       "      <td>NaN</td>\n",
       "      <td>NaN</td>\n",
       "      <td>NaN</td>\n",
       "      <td>NaN</td>\n",
       "      <td>NaN</td>\n",
       "      <td>FY</td>\n",
       "      <td>2022-08-31</td>\n",
       "      <td>ForecastRevision</td>\n",
       "      <td></td>\n",
       "      <td>2023-01-31</td>\n",
       "      <td>FY</td>\n",
       "      <td>1.130000e+11</td>\n",
       "      <td>3.600000e+09</td>\n",
       "      <td>2.350000e+09</td>\n",
       "      <td>3.400000e+09</td>\n",
       "    </tr>\n",
       "    <tr>\n",
       "      <th>0</th>\n",
       "      <td>46530</td>\n",
       "      <td>2022-03-31</td>\n",
       "      <td>2.239600e+10</td>\n",
       "      <td>1.255300e+10</td>\n",
       "      <td>2.878300e+10</td>\n",
       "      <td>1.228000e+09</td>\n",
       "      <td>1.244000e+09</td>\n",
       "      <td>4.360000e+08</td>\n",
       "      <td>FY</td>\n",
       "      <td>2022-08-31</td>\n",
       "      <td>NumericalCorrection</td>\n",
       "      <td>false</td>\n",
       "      <td>2022-03-31</td>\n",
       "      <td>FY</td>\n",
       "      <td>3.272900e+10</td>\n",
       "      <td>1.653000e+09</td>\n",
       "      <td>1.005000e+09</td>\n",
       "      <td>1.514000e+09</td>\n",
       "    </tr>\n",
       "    <tr>\n",
       "      <th>4</th>\n",
       "      <td>43710</td>\n",
       "      <td>2022-12-31</td>\n",
       "      <td>4.400282e+09</td>\n",
       "      <td>2.506768e+09</td>\n",
       "      <td>7.169660e+08</td>\n",
       "      <td>6.906530e+08</td>\n",
       "      <td>7.147880e+08</td>\n",
       "      <td>NaN</td>\n",
       "      <td>2Q</td>\n",
       "      <td>2022-08-31</td>\n",
       "      <td>NumericalCorrection</td>\n",
       "      <td></td>\n",
       "      <td>2022-12-31</td>\n",
       "      <td>2Q</td>\n",
       "      <td>NaN</td>\n",
       "      <td>NaN</td>\n",
       "      <td>NaN</td>\n",
       "      <td>NaN</td>\n",
       "    </tr>\n",
       "    <tr>\n",
       "      <th>5</th>\n",
       "      <td>46530</td>\n",
       "      <td>2023-03-31</td>\n",
       "      <td>NaN</td>\n",
       "      <td>NaN</td>\n",
       "      <td>NaN</td>\n",
       "      <td>NaN</td>\n",
       "      <td>NaN</td>\n",
       "      <td>NaN</td>\n",
       "      <td>FY</td>\n",
       "      <td>2022-08-31</td>\n",
       "      <td>ForecastRevision</td>\n",
       "      <td></td>\n",
       "      <td>2023-03-31</td>\n",
       "      <td>FY</td>\n",
       "      <td>NaN</td>\n",
       "      <td>NaN</td>\n",
       "      <td>NaN</td>\n",
       "      <td>NaN</td>\n",
       "    </tr>\n",
       "    <tr>\n",
       "      <th>7</th>\n",
       "      <td>67520</td>\n",
       "      <td>2023-03-31</td>\n",
       "      <td>NaN</td>\n",
       "      <td>NaN</td>\n",
       "      <td>NaN</td>\n",
       "      <td>NaN</td>\n",
       "      <td>NaN</td>\n",
       "      <td>NaN</td>\n",
       "      <td>FY</td>\n",
       "      <td>2022-08-31</td>\n",
       "      <td>ForecastRevision</td>\n",
       "      <td></td>\n",
       "      <td>2023-03-31</td>\n",
       "      <td>FY</td>\n",
       "      <td>NaN</td>\n",
       "      <td>NaN</td>\n",
       "      <td>NaN</td>\n",
       "      <td>NaN</td>\n",
       "    </tr>\n",
       "  </tbody>\n",
       "</table>\n",
       "<p>9545 rows × 18 columns</p>\n",
       "</div>\n",
       "      <button class=\"colab-df-convert\" onclick=\"convertToInteractive('df-d7155fd9-308d-4939-8574-27bf5dcfabc9')\"\n",
       "              title=\"Convert this dataframe to an interactive table.\"\n",
       "              style=\"display:none;\">\n",
       "        \n",
       "  <svg xmlns=\"http://www.w3.org/2000/svg\" height=\"24px\"viewBox=\"0 0 24 24\"\n",
       "       width=\"24px\">\n",
       "    <path d=\"M0 0h24v24H0V0z\" fill=\"none\"/>\n",
       "    <path d=\"M18.56 5.44l.94 2.06.94-2.06 2.06-.94-2.06-.94-.94-2.06-.94 2.06-2.06.94zm-11 1L8.5 8.5l.94-2.06 2.06-.94-2.06-.94L8.5 2.5l-.94 2.06-2.06.94zm10 10l.94 2.06.94-2.06 2.06-.94-2.06-.94-.94-2.06-.94 2.06-2.06.94z\"/><path d=\"M17.41 7.96l-1.37-1.37c-.4-.4-.92-.59-1.43-.59-.52 0-1.04.2-1.43.59L10.3 9.45l-7.72 7.72c-.78.78-.78 2.05 0 2.83L4 21.41c.39.39.9.59 1.41.59.51 0 1.02-.2 1.41-.59l7.78-7.78 2.81-2.81c.8-.78.8-2.07 0-2.86zM5.41 20L4 18.59l7.72-7.72 1.47 1.35L5.41 20z\"/>\n",
       "  </svg>\n",
       "      </button>\n",
       "      \n",
       "  <style>\n",
       "    .colab-df-container {\n",
       "      display:flex;\n",
       "      flex-wrap:wrap;\n",
       "      gap: 12px;\n",
       "    }\n",
       "\n",
       "    .colab-df-convert {\n",
       "      background-color: #E8F0FE;\n",
       "      border: none;\n",
       "      border-radius: 50%;\n",
       "      cursor: pointer;\n",
       "      display: none;\n",
       "      fill: #1967D2;\n",
       "      height: 32px;\n",
       "      padding: 0 0 0 0;\n",
       "      width: 32px;\n",
       "    }\n",
       "\n",
       "    .colab-df-convert:hover {\n",
       "      background-color: #E2EBFA;\n",
       "      box-shadow: 0px 1px 2px rgba(60, 64, 67, 0.3), 0px 1px 3px 1px rgba(60, 64, 67, 0.15);\n",
       "      fill: #174EA6;\n",
       "    }\n",
       "\n",
       "    [theme=dark] .colab-df-convert {\n",
       "      background-color: #3B4455;\n",
       "      fill: #D2E3FC;\n",
       "    }\n",
       "\n",
       "    [theme=dark] .colab-df-convert:hover {\n",
       "      background-color: #434B5C;\n",
       "      box-shadow: 0px 1px 3px 1px rgba(0, 0, 0, 0.15);\n",
       "      filter: drop-shadow(0px 1px 2px rgba(0, 0, 0, 0.3));\n",
       "      fill: #FFFFFF;\n",
       "    }\n",
       "  </style>\n",
       "\n",
       "      <script>\n",
       "        const buttonEl =\n",
       "          document.querySelector('#df-d7155fd9-308d-4939-8574-27bf5dcfabc9 button.colab-df-convert');\n",
       "        buttonEl.style.display =\n",
       "          google.colab.kernel.accessAllowed ? 'block' : 'none';\n",
       "\n",
       "        async function convertToInteractive(key) {\n",
       "          const element = document.querySelector('#df-d7155fd9-308d-4939-8574-27bf5dcfabc9');\n",
       "          const dataTable =\n",
       "            await google.colab.kernel.invokeFunction('convertToInteractive',\n",
       "                                                     [key], {});\n",
       "          if (!dataTable) return;\n",
       "\n",
       "          const docLinkHtml = 'Like what you see? Visit the ' +\n",
       "            '<a target=\"_blank\" href=https://colab.research.google.com/notebooks/data_table.ipynb>data table notebook</a>'\n",
       "            + ' to learn more about interactive tables.';\n",
       "          element.innerHTML = '';\n",
       "          dataTable['output_type'] = 'display_data';\n",
       "          await google.colab.output.renderOutput(dataTable, element);\n",
       "          const docLink = document.createElement('div');\n",
       "          docLink.innerHTML = docLinkHtml;\n",
       "          element.appendChild(docLink);\n",
       "        }\n",
       "      </script>\n",
       "    </div>\n",
       "  </div>\n",
       "  "
      ]
     },
     "metadata": {},
     "execution_count": 13
    }
   ]
  },
  {
   "cell_type": "markdown",
   "source": [
    "## GoogleDriveへのCSV保存\n",
    "\n",
    "取得したデータをcsv.gz形式で保存します。\n",
    "stock_priceが巨大なファイル（非圧縮, 2017-01-01〜2022-07-31の期間だと540MB程度)なので、\n",
    "保存には3分ほどかかることがあります。"
   ],
   "metadata": {
    "collapsed": false,
    "pycharm": {
     "name": "#%% md\n"
    },
    "id": "b0cTjYpcGJvf"
   }
  },
  {
   "cell_type": "code",
   "execution_count": 14,
   "outputs": [],
   "source": [
    "stock_price.to_csv(stock_price_csvfile_path, compression=\"gzip\")\n",
    "stock_fin.to_csv(stock_fins_csvfile_path, compression=\"gzip\")"
   ],
   "metadata": {
    "pycharm": {
     "name": "#%%\n"
    },
    "id": "JHQwYAw-GJvf"
   }
  },
  {
   "cell_type": "markdown",
   "source": [
    "このnotebookはデータ保存までで終了です。predictor.ipynbに進みましょう。"
   ],
   "metadata": {
    "collapsed": false,
    "pycharm": {
     "name": "#%% md\n"
    },
    "id": "4Os9lzpwGJvf"
   }
  }
 ],
 "metadata": {
  "kernelspec": {
   "display_name": "Python 3",
   "language": "python",
   "name": "python3"
  },
  "language_info": {
   "codemirror_mode": {
    "name": "ipython",
    "version": 2
   },
   "file_extension": ".py",
   "mimetype": "text/x-python",
   "name": "python",
   "nbconvert_exporter": "python",
   "pygments_lexer": "ipython2",
   "version": "2.7.6"
  },
  "colab": {
   "provenance": [],
   "toc_visible": true
  }
 },
 "nbformat": 4,
 "nbformat_minor": 0
}