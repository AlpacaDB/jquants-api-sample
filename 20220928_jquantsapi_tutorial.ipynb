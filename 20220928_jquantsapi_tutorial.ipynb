{
  "cells": [
    {
      "cell_type": "markdown",
      "metadata": {
        "collapsed": false,
        "id": "EliGb_8tGJva",
        "pycharm": {
          "name": "#%% md\n"
        }
      },
      "source": [
        "[![Open In Colab](https://colab.research.google.com/assets/colab-badge.svg)](https://colab.research.google.com/github/AlpacaDB/jquants-api-sample/blob/main/20220928_jquantsapi_tutorial.ipynb)"
      ]
    },
    {
      "cell_type": "markdown",
      "metadata": {
        "collapsed": true,
        "id": "3CyAgtw7GJvc",
        "pycharm": {
          "name": "#%% md\n"
        }
      },
      "source": [
        "# J-Quants APIを用いた株式分析チュートリアル用データ取得\n",
        "\n",
        "本ノートブックは、2部構成になっています。\n",
        "前半で日本取引所グループが提供している [株式分析チュートリアル](https://japanexchangegroup.github.io/J-Quants-Tutorial/) の実行に必要となる株価・財務情報データを [J-Quants API](https://jpx-jquants.com/#jquants-api) を使用して取得し、データを調整し、保存するところまでを行います。\n",
        "後半では、取得したデータを用いて[J-Quants株式分析チュートリアル第2章のハンズオンノートブック](https://github.com/JapanExchangeGroup/J-Quants-Tutorial/blob/main/handson/Chapter02/20210121-chapter02-tutorial.ipynb) の再現を行います。\n",
        "\n",
        "Google Colab上で動作確認を行っています。\n",
        "\n",
        "---\n",
        "\n",
        "**このノートブックはGoogle Driveを使用します。**\n",
        "\n",
        "- Google Drive の以下のフォルダーにデータを書き込みます。\n",
        "    - `MyDrive/drive_ws/marketdata`"
      ]
    },
    {
      "cell_type": "markdown",
      "metadata": {
        "collapsed": false,
        "id": "XKtXotmbGJvc",
        "pycharm": {
          "name": "#%% md\n"
        }
      },
      "source": [
        "## J-Quants API 利用準備: リフレッシュトークンの取得\n",
        "J-Quants APIを利用するためには [J-Quants API のメニューページ](https://application.jpx-jquants.com/) から取得できるリフレッシュトークンが必要になります。\n",
        "会員登録とリフレッシュトークンの取得を完了させてから次に進みます。"
      ]
    },
    {
      "cell_type": "markdown",
      "metadata": {
        "id": "_HNw7eBtrwg2",
        "pycharm": {
          "name": "#%% md\n"
        }
      },
      "source": [
        "## ライブラリとデータ保存先の設定"
      ]
    },
    {
      "cell_type": "markdown",
      "metadata": {
        "collapsed": false,
        "id": "yW05JPyuGJvd",
        "pycharm": {
          "name": "#%% md\n"
        }
      },
      "source": [
        "必要なライブラリのinstall/importと設定を行います。\n",
        "\n",
        "本ノートブックでは、J-Quants API のPythonクライアントライブラリである [jquants-api-client-python](https://github.com/J-Quants/jquants-api-client-python) を使用します。"
      ]
    },
    {
      "cell_type": "code",
      "execution_count": null,
      "metadata": {
        "id": "UL4Jo8m2GJvd",
        "pycharm": {
          "name": "#%%\n"
        }
      },
      "outputs": [],
      "source": [
        "# jquants-api-client をインストールします\n",
        "!pip install jquants-api-client==0.1.5\n",
        "\n",
        "import getpass\n",
        "import os\n",
        "from datetime import datetime\n",
        "from typing import List\n",
        "\n",
        "import numpy as np\n",
        "import pandas as pd\n",
        "from requests import HTTPError\n",
        "\n",
        "import jquantsapi\n",
        "\n",
        "\n",
        "# --- コンフィグ ---\n",
        "# Googleドライブをマウントするディレクトリ\n",
        "GOOGLE_DRIVE_MOUNT_DIR_PATH = \"/content/drive\"\n",
        "\n",
        "# データを保存するGoogleドライブ上のディレクトリ\n",
        "STORAGE_DIR_PATH = f\"{GOOGLE_DRIVE_MOUNT_DIR_PATH}/MyDrive/drive_ws/marketdata\"\n",
        "\n",
        "# 各種CSVデータを保存するファイルパス\n",
        "# 元データ\n",
        "raw_stock_list_csvfile_path = f\"{STORAGE_DIR_PATH}/raw_stock_list.csv.gz\"\n",
        "raw_stock_fins_csvfile_path = f\"{STORAGE_DIR_PATH}/raw_stock_fin.csv.gz\"\n",
        "raw_stock_price_csvfile_path = f\"{STORAGE_DIR_PATH}/raw_stock_price.csv.gz\"\n",
        "# 処理済みデータ\n",
        "stock_list_csvfile_path = f\"{STORAGE_DIR_PATH}/stock_list.csv.gz\"\n",
        "stock_fins_csvfile_path = f\"{STORAGE_DIR_PATH}/stock_fin.csv.gz\"\n",
        "stock_price_csvfile_path = f\"{STORAGE_DIR_PATH}/stock_price.csv.gz\"\n",
        "stock_labels_csvfile_path = f\"{STORAGE_DIR_PATH}/stock_labels.csv.gz\"\n",
        "\n",
        "# J-Quants API から取得するデータの期間\n",
        "start_dt: datetime = datetime(2019, 1, 1)\n",
        "# デバッグ中は短い期間を使う\n",
        "#start_dt: datetime = datetime(2022, 3, 1)\n",
        "\n",
        "end_dt: datetime = datetime(2022, 8, 31)\n",
        "\n",
        "# 目的変数(ラベル)の作成時に、何営業日後の価格レンジを予測するか。\n",
        "# たとえばlookaheads = [5, 10, 20] であった場合、5営業日後、10営業日後, 20営業日後\n",
        "# の高値・安値を取得し、stock_labels変数には下記のカラムが付与されたdataframeが保存されます。\n",
        "# \"label_date_5\", \"label_high_5\", \"label_low_5\", \n",
        "# \"label_date_10\", \"label_high_10\", \"label_low_10\",\n",
        "# \"label_date_20\", \"label_high_20\", \"label_low_20\",\n",
        "#lookaheads = [5, 10, 20]\n",
        "lookaheads = [20] # 数が多いと目的変数作成に時間がかかるので一旦20だけにする\n",
        "\n",
        "# 予測対象の銘柄一覧。多いと時間がかかるのでデバッグ中は下記の銘柄に絞る。\n",
        "# 下記が空配列だった場合は全銘柄が対象になります。\n",
        "example_codes = [7203, 9201, 6758] # toyota, jal, sony (特に銘柄選定に意味はないです)"
      ]
    },
    {
      "cell_type": "code",
      "execution_count": null,
      "metadata": {
        "id": "757Ajii9ONBQ",
        "pycharm": {
          "name": "#%%\n"
        }
      },
      "outputs": [],
      "source": [
        "# Googleドライブをマウント\n",
        "from google.colab import drive\n",
        "drive.mount(GOOGLE_DRIVE_MOUNT_DIR_PATH)"
      ]
    },
    {
      "cell_type": "code",
      "execution_count": null,
      "metadata": {
        "id": "EpSrLMQY-QQY",
        "pycharm": {
          "name": "#%%\n"
        }
      },
      "outputs": [],
      "source": [
        "# データ保存先のフォルダーを作成しておきます\n",
        "os.makedirs(STORAGE_DIR_PATH, exist_ok=True)"
      ]
    },
    {
      "cell_type": "markdown",
      "metadata": {
        "id": "W6csfvOur_VP",
        "pycharm": {
          "name": "#%% md\n"
        }
      },
      "source": [
        "## リフレッシュトークンの設定"
      ]
    },
    {
      "cell_type": "markdown",
      "metadata": {
        "collapsed": false,
        "id": "qgVoql6RGJve",
        "pycharm": {
          "name": "#%% md\n"
        }
      },
      "source": [
        "入力ボックスに https://application.jpx-jquants.com/ から取得したJ-Quants APIのリフレッシュトークンを入力してください。"
      ]
    },
    {
      "cell_type": "code",
      "execution_count": null,
      "metadata": {
        "id": "i1ADs91SGJve",
        "pycharm": {
          "name": "#%%\n"
        }
      },
      "outputs": [],
      "source": [
        "refresh_token = getpass.getpass(prompt=\"J-Quants Refresh Token:\")\n",
        "# リフレッシュトークンを使用できるか検証します。\n",
        "test_cli = jquantsapi.Client(refresh_token=refresh_token)\n",
        "try:\n",
        "    id_token = test_cli.get_id_token()\n",
        "    if len(id_token) > 0:\n",
        "        print(\"refresh_tokenは正常です。次の手順に進んでください。\")\n",
        "except HTTPError:\n",
        "    print(\"refresh_tokenを使用できません。再度値を確認してください。\")"
      ]
    },
    {
      "cell_type": "markdown",
      "metadata": {
        "collapsed": false,
        "id": "xaknOIQQGJve",
        "pycharm": {
          "name": "#%% md\n"
        }
      },
      "source": [
        "## データのダウンロードおよび保存\n",
        "\n",
        "銘柄一覧および、上記で設定したデータ取得期間(start_dt から end_dt) の\n",
        "全銘柄の価格と財務情報データを取得します。加えて、取得したデータを保存しておきます。データ処理方法を変えたりしても再度データ取得しなくて良くなります。\n",
        "\n",
        "このステップの実行にはデータを取得する期間によって数十分ほど時間がかかります。"
      ]
    },
    {
      "cell_type": "code",
      "execution_count": null,
      "metadata": {
        "id": "hMFairulGJvf",
        "pycharm": {
          "name": "#%%\n"
        }
      },
      "outputs": [],
      "source": [
        "cli = jquantsapi.Client(refresh_token=refresh_token)\n",
        "\n",
        "# 銘柄一覧\n",
        "if os.path.isfile(raw_stock_list_csvfile_path):\n",
        "    print(f\"すでに{raw_stock_list_csvfile_path}が存在するのでデータ取得をスキップします。\")\n",
        "else:\n",
        "    stock_list_load: pd.DataFrame = cli.get_list()\n",
        "    stock_list_load.to_csv(raw_stock_list_csvfile_path, compression=\"gzip\", index=False)\n",
        "stock_list_load: pd.DataFrame = pd.read_csv(raw_stock_list_csvfile_path, dtype=str)\n",
        "\n",
        "# 株価情報\n",
        "if os.path.isfile(raw_stock_price_csvfile_path):\n",
        "    print(f\"すでに{raw_stock_price_csvfile_path}が存在するのでデータ取得をスキップします。\")\n",
        "else:\n",
        "    stock_price_load: pd.DataFrame = cli.get_price_range(start_dt=start_dt, end_dt=end_dt)\n",
        "    stock_price_load.to_csv(raw_stock_price_csvfile_path, compression=\"gzip\", index=False)\n",
        "stock_price_load: pd.DataFrame = pd.read_csv(raw_stock_price_csvfile_path, dtype=str)\n",
        "\n",
        "# 財務情報\n",
        "\n",
        "if os.path.isfile(raw_stock_fins_csvfile_path):\n",
        "    print(f\"すでに{raw_stock_fins_csvfile_path}が存在するのでデータ取得をスキップします。\")\n",
        "else:\n",
        "    stock_fin_load: pd.DataFrame = cli.get_statements_range(start_dt=start_dt, end_dt=end_dt)\n",
        "    stock_fin_load.to_csv(raw_stock_fins_csvfile_path, compression=\"gzip\", index=False)\n",
        "stock_fin_load: pd.DataFrame = pd.read_csv(raw_stock_fins_csvfile_path, dtype=str)"
      ]
    },
    {
      "cell_type": "code",
      "execution_count": null,
      "metadata": {
        "id": "9Azp2TiXfuuQ",
        "pycharm": {
          "name": "#%%\n"
        }
      },
      "outputs": [],
      "source": [
        "# 上記で保存したファイルを削除するためには以下のコマンドを実行します\n",
        "# 以降のセルでエラーが出た際にファイルを削除することをためしてみてください。\n",
        "#os.remove(raw_stock_list_csvfile_path)\n",
        "#os.remove(raw_stock_price_csvfile_path)\n",
        "#os.remove(raw_stock_fins_csvfile_path)"
      ]
    },
    {
      "cell_type": "markdown",
      "metadata": {
        "id": "r3vPKxGvD1oC",
        "pycharm": {
          "name": "#%% md\n"
        }
      },
      "source": [
        "## データ処理\n",
        "\n",
        "過去にJ-Quants株式分析チュートリアルやデータ分析コンペティションで用いられたデータとの互換性をなるべく取るため、データの処理を行います。"
      ]
    },
    {
      "cell_type": "code",
      "execution_count": null,
      "metadata": {
        "id": "vbvojFwC7Hq1",
        "pycharm": {
          "name": "#%%\n"
        }
      },
      "outputs": [],
      "source": [
        "# stock_price(株価)\n",
        "\n",
        "# 株価情報のobject型をdatetime64[ns]型に変換\n",
        "stock_price_load[\"Date\"] = pd.to_datetime(stock_price_load[\"Date\"])\n",
        "\n",
        "# 株価情報のいくつかがobject型になっているので数値型に変換\n",
        "stock_price_load[\"Open\"] = stock_price_load[\"Open\"].astype(np.float64)\n",
        "stock_price_load[\"High\"] = stock_price_load[\"High\"].astype(np.float64)\n",
        "stock_price_load[\"Low\"] = stock_price_load[\"Low\"].astype(np.float64)\n",
        "stock_price_load[\"Close\"] = stock_price_load[\"Close\"].astype(np.float64)\n",
        "stock_price_load[\"Volume\"] = stock_price_load[\"Volume\"].astype(np.float64)\n",
        "stock_price_load[\"AdjustmentOpen\"] = stock_price_load[\"AdjustmentOpen\"].astype(np.float64)\n",
        "stock_price_load[\"AdjustmentHigh\"] = stock_price_load[\"AdjustmentHigh\"].astype(np.float64)\n",
        "stock_price_load[\"AdjustmentLow\"] = stock_price_load[\"AdjustmentLow\"].astype(np.float64)\n",
        "stock_price_load[\"AdjustmentClose\"] = stock_price_load[\"AdjustmentClose\"].astype(np.float64)\n",
        "stock_price_load[\"AdjustmentFactor\"] = stock_price_load[\"AdjustmentFactor\"].astype(np.float64)\n",
        "stock_price_load[\"AdjustmentVolume\"] = stock_price_load[\"AdjustmentVolume\"].astype(np.float64)\n",
        "stock_price_load[\"TurnoverValue\"] = stock_price_load[\"TurnoverValue\"].astype(np.float64)\n",
        "\n",
        "# 累積調整係数を作成します\n",
        "# memo: 調整後終値とは https://support.yahoo-net.jp/PccFinance/s/article/H000006678\n",
        "def generate_cumulative_adjustment_factor(df):\n",
        "   # 分割併合等の係数を適用日に変更\n",
        "   df.loc[:, \"AdjustmentFactor\"] = df[\"AdjustmentFactor\"].shift(-1).fillna(1.0)\n",
        " \n",
        "   # 調整係数を作成するために逆順にソートする\n",
        "   df = df.sort_values(\"Date\", ascending=False)\n",
        "   # 累積株価調整係数を作成\n",
        "   df.loc[:, \"EndOfDayQuote CumulativeAdjustmentFactor\"] = 1 / df[\"AdjustmentFactor\"].cumprod()\n",
        "   # ソート順を昇順にする\n",
        "   df = df.sort_values(\"Date\")\n",
        " \n",
        "   return df\n",
        "# 累積調整係数を追加\n",
        "stock_price_load = stock_price_load.sort_values([\"Code\", \"Date\"])\n",
        "stock_price_load = stock_price_load.groupby(\"Code\").apply(generate_cumulative_adjustment_factor).reset_index(drop=True)\n",
        "\n",
        "# 普通株 (5桁で末尾が0) の銘柄コードを4桁にします\n",
        "stock_price_load.loc[(stock_price_load[\"Code\"].str.len() == 5) & (stock_price_load[\"Code\"].str[-1] == \"0\"), \"Code\"] = stock_price_load.loc[(stock_price_load[\"Code\"].str.len() == 5) & (stock_price_load[\"Code\"].str[-1] == \"0\"), \"Code\"].str[:-1]\n",
        "stock_price_load[\"Code\"] = stock_price_load[\"Code\"].astype(int)\n"
      ]
    },
    {
      "cell_type": "code",
      "execution_count": null,
      "metadata": {
        "id": "vyRXAQc04bFt",
        "pycharm": {
          "name": "#%%\n"
        }
      },
      "outputs": [],
      "source": [
        "stock_price_load.head()"
      ]
    },
    {
      "cell_type": "code",
      "execution_count": null,
      "metadata": {
        "id": "CAJSrS_TEOEX",
        "pycharm": {
          "name": "#%%\n"
        }
      },
      "outputs": [],
      "source": [
        "# stock_fin(財務情報)\n",
        "\n",
        "# 財務情報のいくつかがobject型になっているので数値型に変換\n",
        "numeric_cols_fin = ['AverageNumberOfShares', 'BookValuePerShare', 'EarningsPerShare','Equity', 'EquityToAssetRatio',\n",
        "                'ForecastDividendPerShare1stQuarter', 'ForecastDividendPerShare2ndQuarter', 'ForecastDividendPerShare3rdQuarter',\n",
        "                'ForecastDividendPerShareAnnual', 'ForecastDividendPerShareFiscalYearEnd', 'ForecastEarningsPerShare', 'ForecastNetSales', 'ForecastOperatingProfit',\n",
        "                'ForecastOrdinaryProfit', 'ForecastProfit', 'NetSales', 'NumberOfIssuedAndOutstandingSharesAtTheEndOfFiscalYearIncludingTreasuryStock',\n",
        "                'OperatingProfit', 'OrdinaryProfit', 'Profit', 'ResultDividendPerShare1stQuarter','ResultDividendPerShare2ndQuarter','ResultDividendPerShare3rdQuarter',\n",
        "                'ResultDividendPerShareAnnual','ResultDividendPerShareFiscalYearEnd','TotalAssets']\n",
        "stock_fin_load[numeric_cols_fin] = stock_fin_load[numeric_cols_fin].apply(pd.to_numeric, errors='coerce', axis=1)\n",
        "\n",
        "# 財務情報のobject型をdatetime64[ns]型に変換\n",
        "stock_fin_load[\"DisclosedDate\"] = pd.to_datetime(stock_fin_load[\"DisclosedDate\"]) #開示\n",
        "stock_fin_load[\"CurrentFiscalYearEndDate\"] = pd.to_datetime(stock_fin_load[\"CurrentFiscalYearEndDate\"])  # 当事業年度終了日\n",
        "stock_fin_load[\"CurrentFiscalYearStartDate\"] = pd.to_datetime(stock_fin_load[\"CurrentFiscalYearStartDate\"])  # 当事業年度開始日\n",
        "stock_fin_load[\"CurrentPeriodEndDate\"] = pd.to_datetime(stock_fin_load[\"CurrentPeriodEndDate\"]) # 当会計期間終了日\n",
        "\n",
        "# 財務情報の値を調整します\n",
        "stock_fin_load[\"Result_FinancialStatement FiscalYear\"] = stock_fin_load[\"CurrentFiscalYearEndDate\"].dt.strftime(\"%Y\")\n",
        "\n",
        "# 財務情報の同一日に複数レコードが存在することに対応します。\n",
        "# ある銘柄について同一日に複数の開示が行われた場合レコードが重複します。\n",
        "# ここでは簡易的に処理するために特定のTypeOfDocumentを削除した後に、開示時間順に並べて一番最後に発表された開示情報を採用しています。\n",
        "stock_fin_load = stock_fin_load.loc[~stock_fin_load[\"TypeOfDocument\"].isin([\"ForecastRevision\", \"NumericalCorrection\", \"ForecastRevision_REIT\"])]\n",
        "stock_fin_load = stock_fin_load.sort_values(\"DisclosedUnixTime\").drop_duplicates(subset=[\"LocalCode\", \"DisclosedDate\"], keep=\"last\")\n",
        "\n",
        "# 普通株 (5桁で末尾が0) の銘柄コードを4桁にします\n",
        "stock_fin_load.loc[(stock_fin_load[\"LocalCode\"].str.len() == 5) & (stock_fin_load[\"LocalCode\"].str[-1] == \"0\"), \"LocalCode\"] = stock_fin_load.loc[(stock_fin_load[\"LocalCode\"].str.len() == 5) & (stock_fin_load[\"LocalCode\"].str[-1] == \"0\"), \"LocalCode\"].str[:-1]\n",
        "stock_fin_load[\"LocalCode\"] = stock_fin_load[\"LocalCode\"].astype(int)\n"
      ]
    },
    {
      "cell_type": "code",
      "execution_count": null,
      "metadata": {
        "id": "HJkrdP0Z4UDU",
        "pycharm": {
          "name": "#%%\n"
        }
      },
      "outputs": [],
      "source": [
        "stock_fin_load.head()"
      ]
    },
    {
      "cell_type": "code",
      "execution_count": null,
      "metadata": {
        "id": "-NAOIky1cD3-",
        "pycharm": {
          "name": "#%%\n"
        }
      },
      "outputs": [],
      "source": [
        "# stock_list(銘柄一覧)\n",
        "\n",
        "# 普通株 (5桁で末尾が0) の銘柄コードを4桁にします\n",
        "stock_list_load.loc[(stock_list_load[\"Code\"].str.len() == 5) & (stock_list_load[\"Code\"].str[-1] == \"0\"), \"Code\"] = stock_list_load.loc[(stock_list_load[\"Code\"].str.len() == 5) & (stock_list_load[\"Code\"].str[-1] == \"0\"), \"Code\"].str[:-1]\n",
        "stock_list_load[\"Code\"] = stock_list_load[\"Code\"].astype(int)\n",
        "\n",
        "# 銘柄一覧と株価データから予測対象列を作成します\n",
        "# prediction_target は、プライム、スタンダード、グロースの 2022-01-01 以降の売買代金上位2000銘柄とします\n",
        "target_list = stock_list_load.loc[stock_list_load[\"MarketCode\"].isin([\"A\", \"B\", \"C\"]), \"Code\"]\n",
        "pred_targets = (stock_price_load.loc[(stock_price_load[\"Date\"] >= \"2022-01-01\") & (stock_price_load[\"Code\"].isin(target_list)), [\"Code\", \"TurnoverValue\"]].groupby(\"Code\").sum()).sort_values(\"TurnoverValue\", ascending=False).head(2000).index\n",
        "stock_list_load[\"prediction_target\"] = stock_list_load[\"Code\"].isin(pred_targets)\n",
        "\n",
        "# universe_comp2 は、プライム、スタンダード、グロースの 2022-08-01 時点の時価総額上位2000銘柄とします\n",
        "df_atp = stock_price_load.loc[stock_price_load[\"Date\"] == \"2022-08-01\", [\"Code\", \"AdjustmentClose\"]]\n",
        "df_atp = df_atp.loc[df_atp[\"Code\"].isin(target_list)]\n",
        "def _nos(df):\n",
        "    df = df.sort_values(\"DisclosedUnixTime\")\n",
        "    df = df.ffill()\n",
        "    df = df.tail(1)\n",
        "    return df\n",
        "df_nos = stock_fin_load.groupby(\"LocalCode\")[[\"DisclosedUnixTime\", \"NumberOfIssuedAndOutstandingSharesAtTheEndOfFiscalYearIncludingTreasuryStock\"]].apply(_nos)\n",
        "df_nos = df_nos.reset_index()\n",
        "df_mcap = pd.merge(df_atp, df_nos, left_on=[\"Code\"], right_on=[\"LocalCode\"], how=\"inner\")\n",
        "df_mcap[\"mcap\"] = df_mcap[\"AdjustmentClose\"] * df_mcap[\"NumberOfIssuedAndOutstandingSharesAtTheEndOfFiscalYearIncludingTreasuryStock\"]\n",
        "universe_comp2 = sorted(df_mcap.sort_values(\"mcap\").tail(2000)[\"Code\"])\n",
        "stock_list_load[\"universe_comp2\"] = stock_list_load[\"Code\"].isin(universe_comp2)\n"
      ]
    },
    {
      "cell_type": "code",
      "execution_count": null,
      "metadata": {
        "id": "mgSgmblgR-PM",
        "pycharm": {
          "name": "#%%\n"
        }
      },
      "outputs": [],
      "source": [
        "# stock_list: データの互換性のための各種列名変換など\n",
        "stock_list: pd.DataFrame = pd.DataFrame()\n",
        "stock_list[\"Local Code\"] = stock_list_load[\"Code\"]\n",
        "stock_list[\"Name (English)\"] = stock_list_load[\"CompanyNameEnglish\"]\n",
        "stock_list[\"Section/Products\"] = stock_list_load[\"MarketName\"]\n",
        "stock_list[\"33 Sector(Code)\"] = stock_list_load[\"SectorCode\"]\n",
        "stock_list[\"33 Sector(Name)\"] = stock_list_load[\"SectorName\"]\n",
        "stock_list[\"prediction_target\"] = stock_list_load[\"prediction_target\"]\n",
        "stock_list[\"universe_comp2\"] = stock_list_load[\"universe_comp2\"]"
      ]
    },
    {
      "cell_type": "code",
      "execution_count": null,
      "metadata": {
        "id": "uL1nJCeWAqAS",
        "pycharm": {
          "name": "#%%\n"
        }
      },
      "outputs": [],
      "source": [
        "stock_list.head()"
      ]
    },
    {
      "cell_type": "code",
      "execution_count": null,
      "metadata": {
        "id": "7GtFRSQfGmWF",
        "pycharm": {
          "name": "#%%\n"
        }
      },
      "outputs": [],
      "source": [
        "# stock_price: データの互換性のための各種列名変換など\n",
        "stock_price: pd.DataFrame = pd.DataFrame()\n",
        "stock_price[\"Local Code\"] = stock_price_load[\"Code\"]\n",
        "#stock_price[\"Date\"] = stock_price_load[\"Date\"]\n",
        "stock_price[\"base_date\"] = stock_price_load[\"Date\"]\n",
        "stock_price['EndOfDayQuote Date'] = stock_price_load[\"Date\"]\n",
        "stock_price[\"EndOfDayQuote Open\"] = stock_price_load[\"AdjustmentOpen\"]\n",
        "stock_price[\"EndOfDayQuote High\"] = stock_price_load[\"AdjustmentHigh\"]\n",
        "stock_price[\"EndOfDayQuote Low\"] = stock_price_load[\"AdjustmentLow\"]\n",
        "stock_price[\"EndOfDayQuote Close\"] = stock_price_load[\"AdjustmentClose\"]\n",
        "stock_price[\"EndOfDayQuote ExchangeOfficialClose\"] = stock_price_load[\"AdjustmentClose\"]\n",
        "stock_price[\"EndOfDayQuote Volume\"] = stock_price_load[\"AdjustmentVolume\"]\n",
        "stock_price[\"EndOfDayQuote CumulativeAdjustmentFactor\"] = stock_price_load[\"EndOfDayQuote CumulativeAdjustmentFactor\"]\n",
        "\n",
        "stock_price.sort_values([\"Local Code\", \"base_date\"], inplace=True)\n",
        "# ExchangeOfficialClose は欠損値がある場合は前日終値とします\n",
        "stock_price[\"EndOfDayQuote ExchangeOfficialClose\"] = stock_price.groupby([\"Local Code\"])[\"EndOfDayQuote ExchangeOfficialClose\"].ffill()\n",
        "# 前日終値の列を終値列から作成\n",
        "stock_price[\"EndOfDayQuote PreviousClose\"] = stock_price.groupby([\"Local Code\"])[\"EndOfDayQuote Close\"].shift(1)\n",
        "stock_price.tail()"
      ]
    },
    {
      "cell_type": "code",
      "execution_count": null,
      "metadata": {
        "id": "YxCBYNiqG8i8",
        "pycharm": {
          "name": "#%%\n"
        }
      },
      "outputs": [],
      "source": [
        "# stock_financial: データの互換性のための各種列名変換など\n",
        "stock_fin: pd.DataFrame = pd.DataFrame()\n",
        "stock_fin[\"Local Code\"] = stock_fin_load[\"LocalCode\"]\n",
        "stock_fin[\"Result_FinancialStatement FiscalPeriodEnd\"] = stock_fin_load[\"CurrentPeriodEndDate\"].dt.strftime(\"%Y/%m\")\n",
        "stock_fin[\"Result_FinancialStatement TotalAssets\"] = stock_fin_load[\"TotalAssets\"] # 総資産\n",
        "stock_fin[\"Result_FinancialStatement NetAssets\"] = stock_fin_load[\"Equity\"] # 純資産\n",
        "stock_fin[\"Result_FinancialStatement NetSales\"] = stock_fin_load[\"NetSales\"] # 純売上高\n",
        "stock_fin[\"Result_FinancialStatement OperatingIncome\"] = stock_fin_load[\"OperatingProfit\"] # 営業利益\n",
        "stock_fin[\"Result_FinancialStatement OrdinaryIncome\"] = stock_fin_load[\"OrdinaryProfit\"]  # 経常利益\n",
        "stock_fin[\"Result_FinancialStatement NetIncome\"] = stock_fin_load[\"Profit\"]  # 当期純利益\n",
        "stock_fin[\"Result_FinancialStatement ReportType\"] = stock_fin_load[\"TypeOfCurrentPeriod\"] # {\"1Q\", \"2Q\", \"3Q\", \"FY\"}\n",
        "stock_fin[\"Result_FinancialStatement FiscalYear\"] = stock_fin_load[\"Result_FinancialStatement FiscalYear\"] \n",
        "stock_fin[\"base_date\"] = stock_fin_load[\"DisclosedDate\"] # 開示日\n",
        "stock_fin[\"TypeOfDocument\"] = stock_fin_load[\"TypeOfDocument\"] # 書類種別\n",
        "stock_fin[\"RetrospectiveRestatement\"] = stock_fin_load[\"RetrospectiveRestatement\"] #修正再表示フラグ\n",
        "stock_fin[\"Forecast_FinancialStatement FiscalPeriodEnd\"] = stock_fin_load[\"CurrentFiscalYearEndDate\"].dt.strftime(\"%Y/%m\")\n",
        "stock_fin.loc[stock_fin[\"Result_FinancialStatement ReportType\"] == \"FY\", \"Forecast_FinancialStatement FiscalPeriodEnd\"] = (\n",
        "    stock_fin_load[\"CurrentFiscalYearEndDate\"] + pd.Timedelta(365, unit=\"D\")\n",
        ").dt.strftime(\"%Y/%m\")  # 本決算の場合は次の年度予想なので1年後の日付にします\n",
        "stock_fin[\"Forecast_FinancialStatement ReportType\"] = \"FY\"  #  予想は通期固定\n",
        "stock_fin[\"Forecast_FinancialStatement NetSales\"] = stock_fin_load[\"ForecastNetSales\"]\n",
        "stock_fin[\"Forecast_FinancialStatement OperatingIncome\"] = stock_fin_load[\"ForecastOperatingProfit\"]\n",
        "stock_fin[\"Forecast_FinancialStatement NetIncome\"] = stock_fin_load[\"ForecastProfit\"]\n",
        "stock_fin[\"Forecast_FinancialStatement OrdinaryIncome\"] = stock_fin_load[\"ForecastOrdinaryProfit\"]\n",
        "\n",
        "stock_fin.head()"
      ]
    },
    {
      "cell_type": "markdown",
      "metadata": {
        "id": "PutHVi--7Uts",
        "pycharm": {
          "name": "#%% md\n"
        }
      },
      "source": [
        "目的変数を作成します。lookaheadsの値など次第で40分程度かかることがあります。"
      ]
    },
    {
      "cell_type": "code",
      "execution_count": null,
      "metadata": {
        "id": "57VQLikJ7Thm",
        "pycharm": {
          "name": "#%%\n"
        }
      },
      "outputs": [],
      "source": [
        "def create_label_high_low(stock_code:int, target_date:datetime, lookaheads:List[int], stock_price:pd.DataFrame):\n",
        "   #memo: 例えばtarget_dateが2022-08-01, lookaheads=[1,5,10]だった場合、stock_priceは2022-08-01より10営業日先のデータまではいってないといけない\n",
        "\n",
        "   #df_price = stock_price.loc[(stock_price[\"Local Code\"] == stock_code) & (stock_price[\"base_date\"] <= target_date)].copy()\n",
        "   df_price = stock_price.loc[stock_price[\"Local Code\"] == stock_code].copy()\n",
        "\n",
        "   output_columns = [\"base_date\", \"Local Code\"]\n",
        "   for lookahead in lookaheads:\n",
        "       output_columns.append(\"label_date_{}\".format(lookahead))\n",
        "       output_columns.append(\"label_high_{}\".format(lookahead))\n",
        "       output_columns.append(\"label_low_{}\".format(lookahead))\n",
        "       t_col = \"label_date_{}\".format(lookahead)\n",
        "       df_price.loc[:, t_col] = df_price.loc[:, \"base_date\"].shift(-lookahead)\n",
        "\n",
        "   if len(df_price) == 0:\n",
        "       return pd.DataFrame(None, columns=output_columns)\n",
        "\n",
        "   for lookahead in lookaheads:\n",
        "       # df_high_high: base_dateからn営業日の間の高値の最大値\n",
        "       df_high_high = df_price.loc[:, \"EndOfDayQuote High\"].rolling(lookahead, min_periods=1).max()\n",
        "       df_high_high = df_high_high.shift(-lookahead)\n",
        "       df_high_high_diff = df_high_high - df_price.loc[:, \"EndOfDayQuote ExchangeOfficialClose\"]\n",
        "       df_price.loc[:, \"label_high_{}\".format(lookahead)] = df_high_high_diff / df_price.loc[:, \"EndOfDayQuote ExchangeOfficialClose\"]\n",
        "\n",
        "       # df_low_low: base_dateからn営業日の間の安値の最小値\n",
        "       df_low_low = df_price.loc[:, \"EndOfDayQuote Low\"].rolling(lookahead, min_periods=1).min()\n",
        "       df_low_low = df_low_low.shift(-lookahead)\n",
        "       df_low_low_diff = df_low_low - df_price.loc[:, \"EndOfDayQuote ExchangeOfficialClose\"]\n",
        "       df_price.loc[:, \"label_low_{}\".format(lookahead)] = df_low_low_diff / df_price.loc[:, \"EndOfDayQuote ExchangeOfficialClose\"]\n",
        "\n",
        "   df_price.replace(np.inf, np.nan, inplace=True)\n",
        "   df_price = df_price[df_price[\"base_date\"] <= target_date]\n",
        "   return df_price.loc[:, output_columns]\n",
        "\n",
        "def create_delivery_label_high_low(stock_codes:List[int], target_date:pd.Timestamp, lookaheads:List[int], stock_price:pd.DataFrame):\n",
        "   buff = []\n",
        "   for stock_code in stock_codes:\n",
        "       df = create_label_high_low(stock_code, target_date, lookaheads, stock_price)\n",
        "       buff.append(df)\n",
        "   df_labels = pd.concat(buff)\n",
        "   return df_labels\n",
        "\n",
        "def output_stock_labels(stock_labels_csvfile_path:str, df_labels:pd.DataFrame, output_start_dt, end_dt:datetime, lookaheads:List[int]):\n",
        "   df_labels = df_labels.set_index(\"base_date\")\n",
        "   df_labels = df_labels.loc[df_labels.index <= end_dt].copy()\n",
        "   df_labels.index.name = \"base_date\"\n",
        "   df_labels_output = df_labels.loc[(df_labels.index >= output_start_dt) & (df_labels.index <= end_dt)]\n",
        "\n",
        "   label_output_columns = [\"Local Code\"]\n",
        "   for lookahead in lookaheads:\n",
        "       label_output_columns.append(\"label_date_{}\".format(lookahead))\n",
        "       label_output_columns.append(\"label_high_{}\".format(lookahead))\n",
        "       label_output_columns.append(\"label_low_{}\".format(lookahead))\n",
        "\n",
        "   df_labels_output.to_csv(stock_labels_csvfile_path, compression=\"gzip\", float_format=\"%.5f\", columns=label_output_columns)\n",
        "\n",
        "stock_codes = sorted(stock_price[\"Local Code\"].unique())\n",
        "\n",
        "stock_labels = create_delivery_label_high_low(stock_codes, end_dt, lookaheads, stock_price)"
      ]
    },
    {
      "cell_type": "code",
      "execution_count": null,
      "metadata": {
        "id": "uHIzmNuiASUE",
        "pycharm": {
          "name": "#%%\n"
        }
      },
      "outputs": [],
      "source": [
        "stock_labels"
      ]
    },
    {
      "cell_type": "markdown",
      "metadata": {
        "collapsed": false,
        "id": "b0cTjYpcGJvf",
        "pycharm": {
          "name": "#%% md\n"
        }
      },
      "source": [
        "## GoogleDriveへのCSV保存\n",
        "\n",
        "取得したデータをcsv.gz形式で保存します。\n",
        "stock_priceおよびstock_listが巨大なファイル（非圧縮, 2017-01-01〜2022-07-31の期間だと540MB程度)なので、保存には10分ほどかかることがあります。"
      ]
    },
    {
      "cell_type": "code",
      "execution_count": null,
      "metadata": {
        "id": "JHQwYAw-GJvf",
        "pycharm": {
          "name": "#%%\n"
        }
      },
      "outputs": [],
      "source": [
        "stock_list.to_csv(stock_list_csvfile_path, compression=\"gzip\", index=False)\n",
        "stock_price.to_csv(stock_price_csvfile_path, compression=\"gzip\", index=False)\n",
        "stock_fin.to_csv(stock_fins_csvfile_path, compression=\"gzip\", index=False)\n",
        "output_stock_labels(stock_labels_csvfile_path, stock_labels, start_dt, end_dt, lookaheads)"
      ]
    },
    {
      "cell_type": "markdown",
      "metadata": {
        "collapsed": false,
        "id": "gSPvKnF4fuuR",
        "pycharm": {
          "name": "#%% md\n"
        }
      },
      "source": [
        "## J-Quants株式分析チュートリアル第2章の再現\n",
        "\n",
        "ここからは、取得したデータを用いて J-Quants株式分析チュートリアルの第2章の内容を再現していきます。\n",
        "https://github.com/JapanExchangeGroup/J-Quants-Tutorial/blob/main/handson/Chapter02/20210121-chapter02-tutorial.ipynb\n",
        "\n",
        "データ取得はすでに前のステップまでで完了しているため省略します。"
      ]
    },
    {
      "cell_type": "code",
      "execution_count": null,
      "metadata": {
        "id": "sqp-WTvffuuR",
        "pycharm": {
          "name": "#%%\n"
        }
      },
      "outputs": [],
      "source": [
        "# 追加で必要なライブラリのインストール・インポート\n",
        "!pip install shap\n",
        "\n",
        "import sys\n",
        "import seaborn as sns\n",
        "import shap\n",
        "import xgboost\n",
        "from scipy.stats import spearmanr\n",
        "import matplotlib\n",
        "import matplotlib.pyplot as plt\n",
        "from tqdm.auto import tqdm\n",
        "from sklearn.ensemble import (\n",
        "    ExtraTreesRegressor,\n",
        "    GradientBoostingRegressor,\n",
        "    RandomForestRegressor,\n",
        ")\n",
        "from sklearn.metrics import accuracy_score, mean_squared_error\n",
        "import pickle"
      ]
    },
    {
      "cell_type": "code",
      "execution_count": null,
      "metadata": {
        "id": "V2G18o1t6U97"
      },
      "outputs": [],
      "source": [
        "# 保存したファイルからデータの読み込みをする場合はコメントを外してください\n",
        "# stock_list = pd.read_csv(stock_list_csvfile_path)\n",
        "# stock_price = pd.read_csv(stock_price_csvfile_path)\n",
        "# stock_price[\"base_date\"] = pd.to_datetime(stock_price[\"base_date\"])\n",
        "# stock_fin = pd.read_csv(stock_fins_csvfile_path)\n",
        "# stock_fin[\"base_date\"] = pd.to_datetime(stock_fin[\"base_date\"])\n",
        "# stock_labels = pd.read_csv(stock_labels_csvfile_path)\n",
        "# stock_labels[\"base_date\"] = pd.to_datetime(stock_fin[\"base_date\"])"
      ]
    },
    {
      "cell_type": "code",
      "execution_count": null,
      "metadata": {
        "id": "oyCFhWK5A8i_",
        "pycharm": {
          "name": "#%%\n"
        }
      },
      "outputs": [],
      "source": [
        "# 日時を各データフレームのインデックスに設定しておきます\n",
        "stock_price.set_index(\"base_date\", inplace=True)\n",
        "stock_fin.set_index(\"base_date\", inplace=True)\n",
        "stock_labels.set_index(\"base_date\", inplace=True)"
      ]
    },
    {
      "cell_type": "markdown",
      "metadata": {
        "collapsed": false,
        "id": "-vyZWqlwfuuR",
        "pycharm": {
          "name": "#%% md\n"
        }
      },
      "source": [
        "### Data Exploring\n",
        "\n",
        "#### Chapter 2.2.1の表"
      ]
    },
    {
      "cell_type": "code",
      "execution_count": null,
      "metadata": {
        "id": "TPPp1gPOfuuR",
        "pycharm": {
          "name": "#%%\n"
        }
      },
      "outputs": [],
      "source": [
        "print(stock_list.shape)\n",
        "stock_list.head(3)"
      ]
    },
    {
      "cell_type": "markdown",
      "metadata": {
        "collapsed": false,
        "id": "qCzDztq9fuuR",
        "pycharm": {
          "name": "#%% md\n"
        }
      },
      "source": [
        "#### Chapter 2.2.2の表"
      ]
    },
    {
      "cell_type": "code",
      "execution_count": null,
      "metadata": {
        "id": "ebphxm8GfuuR",
        "pycharm": {
          "name": "#%%\n"
        }
      },
      "outputs": [],
      "source": [
        "print(stock_price.shape)\n",
        "stock_price.head(3)"
      ]
    },
    {
      "cell_type": "markdown",
      "metadata": {
        "collapsed": false,
        "id": "MNpFBjD_fuuR",
        "pycharm": {
          "name": "#%% md\n"
        }
      },
      "source": [
        "#### Chapter 2.2.3の表"
      ]
    },
    {
      "cell_type": "code",
      "execution_count": null,
      "metadata": {
        "id": "YkDidQUgfuuR",
        "pycharm": {
          "name": "#%%\n"
        }
      },
      "outputs": [],
      "source": [
        "print(stock_fin.shape)\n",
        "stock_fin.head(3)"
      ]
    },
    {
      "cell_type": "markdown",
      "metadata": {
        "collapsed": false,
        "id": "37QSaNN8fuuR",
        "pycharm": {
          "name": "#%% md\n"
        }
      },
      "source": [
        "#### Chapter 2.2.5の表"
      ]
    },
    {
      "cell_type": "code",
      "execution_count": null,
      "metadata": {
        "id": "QnIiJKiNfuuR",
        "pycharm": {
          "name": "#%%\n"
        }
      },
      "outputs": [],
      "source": [
        "print(stock_labels.shape)\n",
        "stock_labels.head(3)"
      ]
    },
    {
      "cell_type": "markdown",
      "metadata": {
        "collapsed": false,
        "id": "A_Nz5gokfuuR",
        "pycharm": {
          "name": "#%% md\n"
        }
      },
      "source": [
        "### Visualization\n",
        "\n",
        "#### Chapter 2.5.1 売上高、営業利益、純利益、純資産及びその決算期の間の関係について可視化"
      ]
    },
    {
      "cell_type": "code",
      "execution_count": null,
      "metadata": {
        "id": "zfI490zHfuuS",
        "pycharm": {
          "name": "#%%\n"
        }
      },
      "outputs": [],
      "source": [
        "# stock_fin\n",
        "# 銘柄コード9984にデータを絞る\n",
        "code = 9984\n",
        "fin_data = stock_fin[stock_fin[\"Local Code\"] == code]\n",
        "\n",
        "# 2019年までの値を表示\n",
        "fin_data = fin_data[:\"2019\"]\n",
        "\n",
        "# プロット対象を定義\n",
        "columns = [\n",
        "    \"Result_FinancialStatement NetSales\",  # 売上高\n",
        "    \"Result_FinancialStatement OperatingIncome\",  # 営業利益\n",
        "    \"Result_FinancialStatement NetIncome\",  # 純利益\n",
        "    \"Result_FinancialStatement NetAssets\",  # 純資産\n",
        "    \"Result_FinancialStatement ReportType\"  # 決算期\n",
        "]\n",
        "\n",
        "# プロット\n",
        "sns.pairplot(fin_data[columns], hue=\"Result_FinancialStatement ReportType\", height=5)"
      ]
    },
    {
      "cell_type": "markdown",
      "metadata": {
        "collapsed": false,
        "id": "DD0o0YgHfuuS",
        "pycharm": {
          "name": "#%% md\n"
        }
      },
      "source": [
        "#### Chapter 2.5.1 複数銘柄のファンダメンタル情報の比較"
      ]
    },
    {
      "cell_type": "code",
      "execution_count": null,
      "metadata": {
        "id": "rOgmMqhIfuuS",
        "pycharm": {
          "name": "#%%\n"
        }
      },
      "outputs": [],
      "source": [
        "# 銘柄コード9984と9983を比較する\n",
        "codes = [9984, 9983]\n",
        "\n",
        "multi_df = dict()\n",
        "\n",
        "# プロット対象を定義\n",
        "columns = [\n",
        "    \"Result_FinancialStatement NetSales\",  # 売上高\n",
        "    \"Result_FinancialStatement OperatingIncome\",  # 営業利益\n",
        "    \"Result_FinancialStatement NetIncome\",  # 純利益\n",
        "    \"Result_FinancialStatement NetAssets\",  # 純資産\n",
        "    \"Result_FinancialStatement ReportType\"  # 決算期\n",
        "]\n",
        "\n",
        "# 比較対象の銘柄コード毎に処理\n",
        "for code in codes:\n",
        "    # 特定の銘柄コードに絞り込み\n",
        "    fin_data = stock_fin[stock_fin[\"Local Code\"] == code]\n",
        "    # 2019年までの値を表示\n",
        "    fin_data = fin_data[:\"2019\"].copy()\n",
        "    # 重複を排除\n",
        "    fin_data.drop_duplicates(\n",
        "        subset=[\n",
        "            \"Local Code\",\n",
        "            \"Result_FinancialStatement FiscalYear\",\n",
        "            \"Result_FinancialStatement ReportType\"\n",
        "        ],\n",
        "        keep=\"last\", inplace=True)\n",
        "    # プロット対象のカラムを取得\n",
        "    _fin_data = fin_data[columns]\n",
        "    # 決算期毎の平均を取得\n",
        "    multi_df[code] = _fin_data[columns].groupby(\"Result_FinancialStatement ReportType\").mean()\n",
        "\n",
        "# 銘柄毎に処理していたものを結合\n",
        "multi_df = pd.concat(multi_df)\n",
        "# 凡例を調整\n",
        "multi_df.set_index(multi_df.index.map(lambda t: f\"{t[0]}/{t[1]}\"), inplace=True)\n",
        "# プロット\n",
        "ax = multi_df.T.plot(kind=\"bar\", figsize=(12, 6), grid=True)\n",
        "# Y軸のラベルを調整\n",
        "ax.get_yaxis().set_major_formatter(matplotlib.ticker.FuncFormatter(lambda x, p: \"{} bYen\".format(int(x / 1_000_000_000))))"
      ]
    },
    {
      "cell_type": "markdown",
      "metadata": {
        "collapsed": false,
        "id": "CnhPNLwZfuuS",
        "pycharm": {
          "name": "#%% md\n"
        }
      },
      "source": [
        "#### Chapter 2.5.2 株価の終値の動き"
      ]
    },
    {
      "cell_type": "code",
      "execution_count": null,
      "metadata": {
        "id": "nYf5KMwrfuuS",
        "pycharm": {
          "name": "#%%\n"
        }
      },
      "outputs": [],
      "source": [
        "# 特定の銘柄コードに絞り込み\n",
        "code = 9984\n",
        "price_data = stock_price[stock_price[\"Local Code\"] == code]\n",
        "# 2019年までの値を表示\n",
        "price_data = price_data[:\"2019\"]\n",
        "\n",
        "# プロット\n",
        "fig, ax = plt.subplots(figsize=(20, 8))\n",
        "\n",
        "ax.plot(price_data[\"EndOfDayQuote ExchangeOfficialClose\"], label=f\"securities code : {code}.T\")\n",
        "ax.set_ylabel(\"stock_price\")\n",
        "ax.set_xlabel(\"datetime\")\n",
        "ax.grid(True)\n",
        "ax.legend()"
      ]
    },
    {
      "cell_type": "markdown",
      "metadata": {
        "collapsed": false,
        "id": "A9FdAVFnfuuS",
        "pycharm": {
          "name": "#%% md\n"
        }
      },
      "source": [
        "#### Chapter 2.5.3 移動平均"
      ]
    },
    {
      "cell_type": "code",
      "execution_count": null,
      "metadata": {
        "id": "vEtqMXRsfuuS",
        "pycharm": {
          "name": "#%%\n"
        }
      },
      "outputs": [],
      "source": [
        "# 特定の銘柄コードに絞り込み\n",
        "code = 9984\n",
        "price_data = stock_price[stock_price[\"Local Code\"] == code]\n",
        "# 2019年までの値を表示\n",
        "price_data = price_data[:\"2019\"].copy()\n",
        "\n",
        "# 5日、25日、75日の移動平均を算出\n",
        "periods = [5, 25, 75]\n",
        "cols = []\n",
        "for period in periods:\n",
        "    col = \"{} windows simple moving average\".format(period)\n",
        "    price_data[col] = price_data[\"EndOfDayQuote ExchangeOfficialClose\"].rolling(period, min_periods=1).mean()\n",
        "    cols.append(col)\n",
        "\n",
        "# プロット\n",
        "fig2, ax = plt.subplots(figsize=(20, 8))\n",
        "\n",
        "for col in cols:\n",
        "    ax.plot(price_data[col], label=col)\n",
        "ax.set_ylabel(\"stock_price\")\n",
        "ax.set_xlabel(\"datetime\")\n",
        "ax.grid(True)\n",
        "ax.legend()"
      ]
    },
    {
      "cell_type": "markdown",
      "metadata": {
        "collapsed": false,
        "id": "ALuofUJKfuuS",
        "pycharm": {
          "name": "#%% md\n"
        }
      },
      "source": [
        "#### Chapter 2.5.4 価格変化率\n"
      ]
    },
    {
      "cell_type": "code",
      "execution_count": null,
      "metadata": {
        "id": "4Ppe_4fpfuuS",
        "pycharm": {
          "name": "#%%\n"
        }
      },
      "outputs": [],
      "source": [
        "# 特定の銘柄コードに絞り込み\n",
        "code = 9984\n",
        "price_data = stock_price[stock_price[\"Local Code\"] == code]\n",
        "# 2019年までの値を表示\n",
        "price_data = price_data[:\"2019\"].copy()\n",
        "\n",
        "# 5日、25日、75日の価格変化率を算出\n",
        "periods = [5, 25, 75]\n",
        "cols = []\n",
        "for period in periods:\n",
        "    col = \"{} windows rate of return\".format(period)\n",
        "    price_data[col] = price_data[\"EndOfDayQuote ExchangeOfficialClose\"].pct_change(period) * 100\n",
        "    cols.append(col)\n",
        "\n",
        "# プロット\n",
        "fig, ax = plt.subplots(figsize=(20, 8))\n",
        "\n",
        "for col in cols:\n",
        "    ax.plot(price_data[col], label=col)\n",
        "ax.set_ylabel(\"rate of return (%)\")\n",
        "ax.set_xlabel(\"datetime\")\n",
        "ax.grid(True)\n",
        "ax.legend()"
      ]
    },
    {
      "cell_type": "markdown",
      "metadata": {
        "collapsed": false,
        "id": "gtQRETmffuuS",
        "pycharm": {
          "name": "#%% md\n"
        }
      },
      "source": [
        "#### Chapter 2.5.5 ヒストリカル・ボラティリティ"
      ]
    },
    {
      "cell_type": "code",
      "execution_count": null,
      "metadata": {
        "id": "1BrbN_NlfuuS",
        "pycharm": {
          "name": "#%%\n"
        }
      },
      "outputs": [],
      "source": [
        "# 特定の銘柄コードに絞り込み\n",
        "code = 9984\n",
        "price_data = stock_price[stock_price[\"Local Code\"] == code]\n",
        "# 2019年までの値を表示\n",
        "price_data = price_data[:\"2019\"].copy()\n",
        "\n",
        "# 5日、25日、75日のヒストリカル・ボラティリティを算出\n",
        "periods = [5, 25, 75]\n",
        "cols = []\n",
        "for period in periods:\n",
        "    col = \"{} windows volatility\".format(period)\n",
        "    price_data[col] = np.log(price_data[\"EndOfDayQuote ExchangeOfficialClose\"]).diff().rolling(period).std()\n",
        "    cols.append(col)\n",
        "\n",
        "# プロット\n",
        "fig, ax = plt.subplots(figsize=(20, 8))\n",
        "\n",
        "for col in cols:\n",
        "    ax.plot(price_data[col], label=col)\n",
        "ax.set_ylabel(\"volatility\")\n",
        "ax.set_xlabel(\"datetime\")\n",
        "ax.grid(True)\n",
        "ax.legend()"
      ]
    },
    {
      "cell_type": "markdown",
      "metadata": {
        "collapsed": false,
        "id": "A2UdXCkJfuuS",
        "pycharm": {
          "name": "#%% md\n"
        }
      },
      "source": [
        "#### Chapter 2.5.6 複数のデータを同時にプロット"
      ]
    },
    {
      "cell_type": "code",
      "execution_count": null,
      "metadata": {
        "id": "xgHLJN44fuuS",
        "pycharm": {
          "name": "#%%\n"
        }
      },
      "outputs": [],
      "source": [
        "# 特定の銘柄コードに絞り込み\n",
        "code = 9984\n",
        "price_data = stock_price[stock_price[\"Local Code\"] == code]\n",
        "# 2019年までの値を表示\n",
        "price_data = price_data[:\"2019\"].copy()\n",
        "\n",
        "# 5日、25日、75日を対象に値を算出\n",
        "periods = [5, 25, 75]\n",
        "ma_cols = []\n",
        "# 移動平均線\n",
        "for period in periods:\n",
        "    col = \"{} windows simple moving average\".format(period)\n",
        "    price_data[col] = price_data[\"EndOfDayQuote ExchangeOfficialClose\"].rolling(period, min_periods=1).mean()\n",
        "    ma_cols.append(col)\n",
        "\n",
        "return_cols = []\n",
        "# 価格変化率\n",
        "for period in periods:\n",
        "    col = \"{} windows rate of return\".format(period)\n",
        "    price_data[col] = price_data[\"EndOfDayQuote ExchangeOfficialClose\"].pct_change(period) * 100\n",
        "    return_cols.append(col)\n",
        "\n",
        "vol_cols = []\n",
        "# ヒストリカル・ボラティリティ\n",
        "for period in periods:\n",
        "    col = \"{} windows volatility\".format(period)\n",
        "    price_data[col] = np.log(price_data[\"EndOfDayQuote ExchangeOfficialClose\"]).diff().rolling(period).std()\n",
        "    vol_cols.append(col)\n",
        "\n",
        "# プロット\n",
        "fig, ax = plt.subplots(nrows=3 ,figsize=(20, 8))\n",
        "\n",
        "ax[0].plot(price_data[\"EndOfDayQuote ExchangeOfficialClose\"], label=\"Close Price\")\n",
        "\n",
        "for col in ma_cols:\n",
        "    ax[0].plot(price_data[col], label=col)\n",
        "\n",
        "for col in return_cols:\n",
        "    ax[1].plot(price_data[col], label=col)\n",
        "\n",
        "for col in vol_cols:\n",
        "    ax[2].plot(price_data[col], label=col)\n",
        "\n",
        "ax[0].set_ylabel(\"stock_price\")\n",
        "ax[1].set_ylabel(\"rate of return (%)\")\n",
        "ax[2].set_ylabel(\"volatility (log return)\")\n",
        "for _ax in ax:\n",
        "    _ax.set_xlabel(\"datetime\")\n",
        "    _ax.grid(True)\n",
        "    _ax.legend()"
      ]
    },
    {
      "cell_type": "markdown",
      "metadata": {
        "collapsed": false,
        "id": "aBXH116sfuuS",
        "pycharm": {
          "name": "#%% md\n"
        }
      },
      "source": [
        "#### Chapter 2.6.2\n"
      ]
    },
    {
      "cell_type": "code",
      "execution_count": null,
      "metadata": {
        "id": "ojW1ShePfuuS",
        "pycharm": {
          "name": "#%%\n"
        }
      },
      "outputs": [],
      "source": [
        "# memo: stock_finの内容を変更してしまうとセルの実行に途中で失敗してしまったとき厄介なのでなるべく変更しない\n",
        "\n",
        "# 2019年までの値を表示\n",
        "fin_data = stock_fin[:\"2019\"]\n",
        "\n",
        "# # データ数の確認\n",
        "print(fin_data.shape)\n",
        "\n",
        "# # データの欠損値数を確認\n",
        "print(fin_data.isna().sum())\n",
        "\n",
        "# 欠損値の数を年別に集計\n",
        "fin_data = fin_data.isna()\n",
        "fin_data[\"year\"] = fin_data.index.year\n",
        "\n",
        "# データの欠損値をプロット\n",
        "fig, ax = plt.subplots(figsize=(20, 5))\n",
        "sns.heatmap(fin_data.groupby(\"year\").agg(\"sum\"), ax=ax)"
      ]
    },
    {
      "cell_type": "code",
      "execution_count": null,
      "metadata": {
        "id": "jDv87dSgfuuS",
        "pycharm": {
          "name": "#%%\n"
        }
      },
      "outputs": [],
      "source": [
        "# 銘柄コード9984にデータを絞る\n",
        "code = 9984\n",
        "fin_data = stock_fin[stock_fin[\"Local Code\"] == code]\n",
        "\n",
        "# float64型の列に絞り込み\n",
        "fin_data = fin_data.select_dtypes(include=[\"float64\"])\n",
        "\n",
        "# 欠損値を0でフィル\n",
        "fin_data = fin_data.fillna(0)"
      ]
    },
    {
      "cell_type": "code",
      "execution_count": null,
      "metadata": {
        "id": "yYcTpQtJfuuS",
        "pycharm": {
          "name": "#%%\n"
        }
      },
      "outputs": [],
      "source": [
        "fin_data.head(1).T"
      ]
    },
    {
      "cell_type": "markdown",
      "metadata": {
        "collapsed": false,
        "id": "3j7IgVsbfuuS",
        "pycharm": {
          "name": "#%% md\n"
        }
      },
      "source": [
        "### Define features\n",
        "\n",
        "1/2/3monthのリターンに加えて標準偏差、移動平均乖離率などの特徴量生成\n",
        "\n",
        "※時刻は分析対象データを決算後翌営業日から一週間で価格データが存在していた銘柄のみにフィルタリング"
      ]
    },
    {
      "cell_type": "markdown",
      "metadata": {
        "collapsed": false,
        "id": "NAFx1BiIfuuT",
        "pycharm": {
          "name": "#%% md\n"
        }
      },
      "source": [
        "#### Chapter 2.7.3\n"
      ]
    },
    {
      "cell_type": "code",
      "execution_count": null,
      "metadata": {
        "id": "NozvxRTkfuuT",
        "pycharm": {
          "name": "#%%\n"
        }
      },
      "outputs": [],
      "source": [
        "# 銘柄コード9984にデータを絞る\n",
        "code = 9984\n",
        "price_data = stock_price[stock_price[\"Local Code\"] == code]\n",
        "\n",
        "# 終値のみに絞る\n",
        "feats = price_data[[\"EndOfDayQuote ExchangeOfficialClose\"]].copy()\n",
        "# 終値の20営業日リターン\n",
        "feats[\"return_1month\"] = feats[\"EndOfDayQuote ExchangeOfficialClose\"].pct_change(20)\n",
        "# 終値の40営業日リターン\n",
        "feats[\"return_2month\"] = feats[\"EndOfDayQuote ExchangeOfficialClose\"].pct_change(40)\n",
        "# 終値の60営業日リターン\n",
        "feats[\"return_3month\"] = feats[\"EndOfDayQuote ExchangeOfficialClose\"].pct_change(60)\n",
        "# 終値の20営業日ボラティリティ\n",
        "feats[\"volatility_1month\"] = (\n",
        "    np.log(feats[\"EndOfDayQuote ExchangeOfficialClose\"]).diff().rolling(20).std()\n",
        ")\n",
        "# 終値の40営業日ボラティリティ\n",
        "feats[\"volatility_2month\"] = (\n",
        "    np.log(feats[\"EndOfDayQuote ExchangeOfficialClose\"]).diff().rolling(40).std()\n",
        ")\n",
        "# 終値の60営業日ボラティリティ\n",
        "feats[\"volatility_3month\"] = (\n",
        "    np.log(feats[\"EndOfDayQuote ExchangeOfficialClose\"]).diff().rolling(60).std()\n",
        ")\n",
        "# 終値と20営業日の単純移動平均線の乖離\n",
        "feats[\"MA_gap_1month\"] = feats[\"EndOfDayQuote ExchangeOfficialClose\"] / (\n",
        "    feats[\"EndOfDayQuote ExchangeOfficialClose\"].rolling(20).mean()\n",
        ")\n",
        "# 終値と40営業日の単純移動平均線の乖離\n",
        "feats[\"MA_gap_2month\"] = feats[\"EndOfDayQuote ExchangeOfficialClose\"] / (\n",
        "    feats[\"EndOfDayQuote ExchangeOfficialClose\"].rolling(40).mean()\n",
        ")\n",
        "# 終値と60営業日の単純移動平均線の乖離\n",
        "feats[\"MA_gap_3month\"] = feats[\"EndOfDayQuote ExchangeOfficialClose\"] / (\n",
        "    feats[\"EndOfDayQuote ExchangeOfficialClose\"].rolling(60).mean()\n",
        ")\n",
        "# 欠損値処理\n",
        "feats = feats.fillna(0)\n",
        "# 元データのカラムを削除\n",
        "feats = feats.drop([\"EndOfDayQuote ExchangeOfficialClose\"], axis=1)"
      ]
    },
    {
      "cell_type": "code",
      "execution_count": null,
      "metadata": {
        "id": "R0o1w7XYfuuT",
        "pycharm": {
          "name": "#%%\n"
        }
      },
      "outputs": [],
      "source": [
        "feats.tail(1).T"
      ]
    },
    {
      "cell_type": "code",
      "execution_count": null,
      "metadata": {
        "id": "iAdLhX5TfuuT",
        "pycharm": {
          "name": "#%%\n"
        }
      },
      "outputs": [],
      "source": [
        "feats.plot(figsize=(20,8))"
      ]
    },
    {
      "cell_type": "markdown",
      "metadata": {
        "collapsed": false,
        "id": "J8Sx0PiefuuT",
        "pycharm": {
          "name": "#%% md\n"
        }
      },
      "source": [
        "### バックテスト期間の設定\n",
        "#### Chapter 2.8.2\n"
      ]
    },
    {
      "cell_type": "code",
      "execution_count": null,
      "metadata": {
        "id": "YFcWz_Z-fuuT",
        "pycharm": {
          "name": "#%%\n"
        }
      },
      "outputs": [],
      "source": [
        "# データ分割期間を定義\n",
        "TRAIN_END = \"2020-12-31\"\n",
        "VAL_START = \"2021-02-01\"\n",
        "VAL_END = \"2021-12-01\"\n",
        "TEST_START = \"2022-01-01\""
      ]
    },
    {
      "cell_type": "markdown",
      "metadata": {
        "collapsed": false,
        "id": "OTdK8QewfuuT",
        "pycharm": {
          "name": "#%% md\n"
        }
      },
      "source": [
        "### 特徴量の生成\n",
        "#### Chapter 2.9.1\n"
      ]
    },
    {
      "cell_type": "code",
      "execution_count": null,
      "metadata": {
        "id": "Trj7fnimfuuT",
        "pycharm": {
          "name": "#%%\n"
        }
      },
      "outputs": [],
      "source": [
        "def get_features_for_predict(stock_fin, stock_price, code:int, start_dt=\"2017-01-01\"):\n",
        "    \"\"\"\n",
        "    Args:\n",
        "        stock_fin (pd.DataFrame)  : pd.DataFrame that includes financial statements data\n",
        "        stock_price (pd.DataFrame) : pd.DataFrame that includes stock price data\n",
        "        code (int)  : A local code for a listed company\n",
        "        start_dt (str): specify date range\n",
        "    Returns:\n",
        "        feature DataFrame (pd.DataFrame)\n",
        "    \"\"\"\n",
        "    # おおまかな手順の1つ目\n",
        "\n",
        "    # 特定の銘柄コードのデータに絞る\n",
        "    fin_data = stock_fin[stock_fin[\"Local Code\"] == code]\n",
        "    # 特徴量の作成には過去60営業日のデータを使用しているため、\n",
        "    # 予測対象日からバッファ含めて土日を除く過去90日遡った時点から特徴量を生成します\n",
        "    n = 90\n",
        "    # 特徴量の生成対象期間を指定\n",
        "    fin_data = fin_data.loc[pd.Timestamp(start_dt) - pd.offsets.BDay(n) :]\n",
        "    # fin_dataのnp.float64のデータのみを取得\n",
        "    fin_data = fin_data.select_dtypes(include=[\"float64\"])\n",
        "    # 欠損値処理\n",
        "    fin_feats = fin_data.fillna(0)\n",
        "\n",
        "    # おおまかな手順の2つ目\n",
        "\n",
        "    # 特定の銘柄コードのデータに絞る\n",
        "    price_data = stock_price[stock_price[\"Local Code\"] == code]\n",
        "    # 終値のみに絞る\n",
        "    feats = price_data[[\"EndOfDayQuote ExchangeOfficialClose\"]]\n",
        "    # 特徴量の生成対象期間を指定\n",
        "    feats = feats.loc[pd.Timestamp(start_dt) - pd.offsets.BDay(n) :].copy()\n",
        "\n",
        "    # 終値の20営業日リターン\n",
        "    feats[\"return_1month\"] = feats[\"EndOfDayQuote ExchangeOfficialClose\"].pct_change(20)\n",
        "    # 終値の40営業日リターン\n",
        "    feats[\"return_2month\"] = feats[\"EndOfDayQuote ExchangeOfficialClose\"].pct_change(40)\n",
        "    # 終値の60営業日リターン\n",
        "    feats[\"return_3month\"] = feats[\"EndOfDayQuote ExchangeOfficialClose\"].pct_change(60)\n",
        "    # 終値の20営業日ボラティリティ\n",
        "    feats[\"volatility_1month\"] = (\n",
        "        np.log(feats[\"EndOfDayQuote ExchangeOfficialClose\"]).diff().rolling(20).std()\n",
        "    )\n",
        "    # 終値の40営業日ボラティリティ\n",
        "    feats[\"volatility_2month\"] = (\n",
        "        np.log(feats[\"EndOfDayQuote ExchangeOfficialClose\"]).diff().rolling(40).std()\n",
        "    )\n",
        "    # 終値の60営業日ボラティリティ\n",
        "    feats[\"volatility_3month\"] = (\n",
        "        np.log(feats[\"EndOfDayQuote ExchangeOfficialClose\"]).diff().rolling(60).std()\n",
        "    )\n",
        "    # 終値と20営業日の単純移動平均線の乖離\n",
        "    feats[\"MA_gap_1month\"] = feats[\"EndOfDayQuote ExchangeOfficialClose\"] / (\n",
        "        feats[\"EndOfDayQuote ExchangeOfficialClose\"].rolling(20).mean()\n",
        "    )\n",
        "    # 終値と40営業日の単純移動平均線の乖離\n",
        "    feats[\"MA_gap_2month\"] = feats[\"EndOfDayQuote ExchangeOfficialClose\"] / (\n",
        "        feats[\"EndOfDayQuote ExchangeOfficialClose\"].rolling(40).mean()\n",
        "    )\n",
        "    # 終値と60営業日の単純移動平均線の乖離\n",
        "    feats[\"MA_gap_3month\"] = feats[\"EndOfDayQuote ExchangeOfficialClose\"] / (\n",
        "        feats[\"EndOfDayQuote ExchangeOfficialClose\"].rolling(60).mean()\n",
        "    )\n",
        "\n",
        "    # おおまかな手順の3つ目\n",
        "    # 欠損値処理\n",
        "    feats = feats.fillna(0)\n",
        "    # 元データのカラムを削除\n",
        "    feats = feats.drop([\"EndOfDayQuote ExchangeOfficialClose\"], axis=1)\n",
        "\n",
        "    # 財務データの特徴量とマーケットデータの特徴量のインデックスを合わせる\n",
        "    feats = feats.loc[feats.index.isin(fin_feats.index)]\n",
        "    fin_feats = fin_feats.loc[fin_feats.index.isin(feats.index)]\n",
        "\n",
        "    # データを結合\n",
        "    feats = pd.concat([feats, fin_feats], axis=1).dropna()\n",
        "\n",
        "    # 欠損値処理を行います。\n",
        "    feats = feats.replace([np.inf, -np.inf], 0)\n",
        "\n",
        "    # 銘柄コードを設定\n",
        "    feats[\"code\"] = code\n",
        "\n",
        "    # 生成対象日以降の特徴量に絞る\n",
        "    feats = feats.loc[pd.Timestamp(start_dt) :]\n",
        "\n",
        "    return feats"
      ]
    },
    {
      "cell_type": "code",
      "execution_count": null,
      "metadata": {
        "id": "2w-RyYcafuuT",
        "pycharm": {
          "name": "#%%\n"
        }
      },
      "outputs": [],
      "source": [
        "df = get_features_for_predict(stock_fin, stock_price, 9984)\n",
        "df.T"
      ]
    },
    {
      "cell_type": "markdown",
      "metadata": {
        "collapsed": false,
        "id": "0FO4fZEufuuT",
        "pycharm": {
          "name": "#%% md\n"
        }
      },
      "source": [
        "### 目的変数の生成\n",
        "#### Chapter 2.9.2\n"
      ]
    },
    {
      "cell_type": "code",
      "execution_count": null,
      "metadata": {
        "id": "PFNfiIjlfuuT",
        "pycharm": {
          "name": "#%%\n"
        }
      },
      "outputs": [],
      "source": [
        "def get_features_and_label(stock_labels, codes, feature, label):\n",
        "    \"\"\"\n",
        "    Args:\n",
        "        stock_labels (pd.DataFame): label data for training\n",
        "        codes  (array) : target codes\n",
        "        feature (pd.DataFrame): features\n",
        "        label (str) : label column name\n",
        "    Returns:\n",
        "        train_X (pd.DataFrame): training data\n",
        "        train_y (pd.DataFrame): label for train_X\n",
        "        val_X (pd.DataFrame): validation data\n",
        "        val_y (pd.DataFrame): label for val_X\n",
        "        test_X (pd.DataFrame): test data\n",
        "        test_y (pd.DataFrame): label for test_X\n",
        "    \"\"\"\n",
        "    # 分割データ用の変数を定義\n",
        "    trains_X, vals_X, tests_X = [], [], []\n",
        "    trains_y, vals_y, tests_y = [], [], []\n",
        "\n",
        "    # 銘柄コード毎に特徴量を作成\n",
        "    for code in tqdm(codes):\n",
        "        # 特徴量取得\n",
        "        feats = feature[feature[\"code\"] == code]\n",
        "\n",
        "        # 特定の銘柄コードのデータに絞る\n",
        "        labels = stock_labels[stock_labels[\"Local Code\"] == code].copy()\n",
        "\n",
        "        # 特定の目的変数に絞る\n",
        "        labels = labels[label].copy()\n",
        "        # nanを削除\n",
        "        labels.dropna(inplace=True)\n",
        "        #print(labels)\n",
        "\n",
        "        if feats.shape[0] > 0 and labels.shape[0] > 0:\n",
        "            # 特徴量と目的変数のインデックスを合わせる\n",
        "            labels = labels.loc[labels.index.isin(feats.index)]\n",
        "            feats = feats.loc[feats.index.isin(labels.index)]\n",
        "            labels.index = feats.index\n",
        "\n",
        "            # データを分割\n",
        "            _train_X = feats[: TRAIN_END]\n",
        "            _val_X = feats[VAL_START : VAL_END]\n",
        "            _test_X = feats[TEST_START :]\n",
        "\n",
        "            _train_y = labels[: TRAIN_END]\n",
        "            _val_y = labels[VAL_START : VAL_END]\n",
        "            _test_y = labels[TEST_START :]\n",
        "\n",
        "            # データを配列に格納 (後ほど結合するため)\n",
        "            trains_X.append(_train_X)\n",
        "            vals_X.append(_val_X)\n",
        "            tests_X.append(_test_X)\n",
        "\n",
        "            trains_y.append(_train_y)\n",
        "            vals_y.append(_val_y)\n",
        "            tests_y.append(_test_y)\n",
        "\n",
        "    # 銘柄毎に作成した説明変数データを結合します。\n",
        "    train_X = pd.concat(trains_X)\n",
        "    val_X = pd.concat(vals_X)\n",
        "    test_X = pd.concat(tests_X)\n",
        "    # 銘柄毎に作成した目的変数データを結合します。\n",
        "    train_y = pd.concat(trains_y)\n",
        "    val_y = pd.concat(vals_y)\n",
        "    test_y = pd.concat(tests_y)\n",
        "\n",
        "    return train_X, train_y, val_X, val_y, test_X, test_y"
      ]
    },
    {
      "cell_type": "code",
      "execution_count": null,
      "metadata": {
        "id": "ohTLeXhGfuuT",
        "pycharm": {
          "name": "#%%\n"
        }
      },
      "outputs": [],
      "source": [
        "# 対象銘柄コードを定義\n",
        "codes = [9984]\n",
        "# 対象の目的変数を定義\n",
        "label = \"label_high_20\"\n",
        "# 特徴量を取得\n",
        "feat = get_features_for_predict(stock_fin, stock_price, codes[0])\n",
        "# 特徴量と目的変数を一致させて、データを分割\n",
        "ret = get_features_and_label(stock_labels, codes, feat, label)\n",
        "for v in ret:\n",
        "    print(v.T)"
      ]
    },
    {
      "cell_type": "code",
      "execution_count": null,
      "metadata": {
        "id": "dBA2NYsUfuuT",
        "pycharm": {
          "name": "#%%\n"
        }
      },
      "outputs": [],
      "source": [
        "def get_codes(stock_list):\n",
        "    \"\"\"\n",
        "    Args:\n",
        "        stock_list (pd.DataFrame): stock list\n",
        "    Returns:\n",
        "        array: list of stock codes\n",
        "    \"\"\"\n",
        "    # 予測対象の銘柄コードを取得\n",
        "    codes = stock_list[stock_list[\"prediction_target\"] == True][\n",
        "        \"Local Code\"\n",
        "    ].values\n",
        "    return codes"
      ]
    },
    {
      "cell_type": "code",
      "execution_count": null,
      "metadata": {
        "id": "7Om151VkfuuT",
        "pycharm": {
          "name": "#%%\n"
        }
      },
      "outputs": [],
      "source": [
        "# 対象の目的変数を定義\n",
        "if 'google.colab' in sys.modules:\n",
        "    labels = {\n",
        "        \"label_high_20\",\n",
        "        \"label_low_20\",\n",
        "    }\n",
        "else:\n",
        "    labels = {\n",
        "        \"label_high_5\",\n",
        "        \"label_high_10\",\n",
        "        \"label_high_20\",\n",
        "        \"label_low_5\",\n",
        "        \"label_low_10\",\n",
        "        \"label_low_20\",\n",
        "    }\n",
        "print(labels)\n",
        "\n",
        "# 目的変数毎にデータを保存するための変数\n",
        "train_X, val_X, test_X = {}, {}, {}\n",
        "train_y, val_y, test_y = {}, {}, {}\n",
        "\n",
        "# 予測対象銘柄を取得\n",
        "codes = get_codes(stock_list)\n",
        "\n",
        "# 特徴量を作成\n",
        "buff = []\n",
        "for code in tqdm(codes):\n",
        "    feat = get_features_for_predict(stock_fin, stock_price, code)\n",
        "    buff.append(feat)\n",
        "feature = pd.concat(buff)\n",
        "\n",
        "# 目的変数毎に処理\n",
        "for label in tqdm(labels):\n",
        "    # 特徴量と目的変数を取得\n",
        "    _train_X, _train_y, _val_X, _val_y, _test_X, _test_y = get_features_and_label(stock_labels, codes, feature, label)\n",
        "    # 目的変数をキーとして値を保存\n",
        "    train_X[label] = _train_X\n",
        "    val_X[label] = _val_X\n",
        "    test_X[label] = _test_X\n",
        "    train_y[label] = _train_y\n",
        "    val_y[label] = _val_y\n",
        "    test_y[label] = _test_y"
      ]
    },
    {
      "cell_type": "markdown",
      "metadata": {
        "collapsed": false,
        "id": "OW05nbdWfuuT",
        "pycharm": {
          "name": "#%% md\n"
        }
      },
      "source": [
        "### Create Model\n",
        "#### Chapter 2.9.3\n"
      ]
    },
    {
      "cell_type": "code",
      "execution_count": null,
      "metadata": {
        "id": "FiCdlHR8fuuT",
        "pycharm": {
          "name": "#%%\n"
        }
      },
      "outputs": [],
      "source": [
        "# 目的変数を指定\n",
        "label = \"label_high_20\"\n",
        "# モデルの初期化\n",
        "pred_model = RandomForestRegressor(random_state=0)\n",
        "# モデルの学習\n",
        "pred_model.fit(train_X[label], train_y[label])"
      ]
    },
    {
      "cell_type": "markdown",
      "metadata": {
        "collapsed": false,
        "id": "HPMqw2nJfuuT",
        "pycharm": {
          "name": "#%% md\n"
        }
      },
      "source": [
        "### Predict\n",
        "#### Chapter 2.10.1"
      ]
    },
    {
      "cell_type": "code",
      "execution_count": null,
      "metadata": {
        "id": "6SV6gProfuuT",
        "pycharm": {
          "name": "#%%\n"
        }
      },
      "outputs": [],
      "source": [
        "# モデルを定義\n",
        "models = {\n",
        "    \"rf\": RandomForestRegressor,\n",
        "}\n",
        "\n",
        "# モデルを選択\n",
        "model = \"rf\"\n",
        "\n",
        "# 目的変数を指定\n",
        "label = \"label_high_20\"\n",
        "\n",
        "# 特徴量グループを定義　\n",
        "# ファンダメンタル\n",
        "fundamental_cols = stock_fin.select_dtypes(\"float64\").columns\n",
        "fundamental_cols = fundamental_cols[fundamental_cols != \"Result_Dividend DividendPayableDate\"]\n",
        "fundamental_cols = fundamental_cols[fundamental_cols != \"Local Code\"]\n",
        "# 価格変化率\n",
        "returns_cols = [x for x in train_X[label].columns if \"return\" in x]\n",
        "# テクニカル\n",
        "technical_cols = [x for x in train_X[label].columns if (x not in fundamental_cols) and (x != \"code\")]\n",
        "columns = {\n",
        "    \"fundamental_only\": fundamental_cols,\n",
        "    \"return_only\": returns_cols,\n",
        "    \"technical_only\": technical_cols,\n",
        "    \"fundamental+technical\": list(fundamental_cols) + list(technical_cols),\n",
        "}\n",
        "# 特徴量グループを指定\n",
        "col = \"fundamental_only\"\n",
        "\n",
        "# 学習\n",
        "pred_model = models[model](random_state=0)\n",
        "pred_model.fit(train_X[label][columns[col]].values, train_y[label])\n",
        "\n",
        "# 予測\n",
        "result = {}\n",
        "result[label] = pd.DataFrame(\n",
        "    pred_model.predict(val_X[label][columns[col]]), columns=[\"predict\"]\n",
        ")\n",
        "\n",
        "# 予測結果に日付と銘柄コードを追加\n",
        "result[label][\"datetime\"] = val_X[label][columns[col]].index\n",
        "result[label][\"code\"] = val_X[label][\"code\"].values\n",
        "\n",
        "# 予測の符号を取得\n",
        "result[label][\"predict_dir\"] = np.sign(result[label][\"predict\"])\n",
        "\n",
        "# 実際の値を追加\n",
        "result[label][\"actual\"] = val_y[label].values"
      ]
    },
    {
      "cell_type": "markdown",
      "metadata": {
        "collapsed": false,
        "id": "5eF1-TVqfuuU",
        "pycharm": {
          "name": "#%% md\n"
        }
      },
      "source": [
        "### 重要度\n",
        "#### Chapter 2.11.1\n"
      ]
    },
    {
      "cell_type": "code",
      "execution_count": null,
      "metadata": {
        "id": "spoFlVWhfuuU",
        "pycharm": {
          "name": "#%%\n"
        }
      },
      "outputs": [],
      "source": [
        "rf = pred_model\n",
        "\n",
        "# プロット\n",
        "fig, ax = plt.subplots(figsize=(8, 8))\n",
        "sorted_idx = rf.feature_importances_.argsort()\n",
        "ax.barh(fundamental_cols[sorted_idx], rf.feature_importances_[sorted_idx])\n",
        "ax.set_xlabel(\"Random Forest Feature Importance\")"
      ]
    },
    {
      "cell_type": "markdown",
      "metadata": {
        "collapsed": false,
        "id": "PnCqTgm3fuuU",
        "pycharm": {
          "name": "#%% md\n"
        }
      },
      "source": [
        "### SHAP分析\n",
        "#### Chapter 2.11.2\n"
      ]
    },
    {
      "cell_type": "code",
      "execution_count": null,
      "metadata": {
        "id": "10IQQAqSfuuU",
        "pycharm": {
          "name": "#%%\n"
        }
      },
      "outputs": [],
      "source": [
        "# xgboostモデル学習　\n",
        "train_X_code_int = train_X[\"label_high_20\"].copy()\n",
        "train_X_code_int[\"code\"] = train_X_code_int[\"code\"].astype(int)\n",
        "sample_model = xgboost.train({\"learning_rate\": 0.01}, xgboost.DMatrix(train_X_code_int, label=train_y[\"label_high_20\"]), 100)"
      ]
    },
    {
      "cell_type": "code",
      "execution_count": null,
      "metadata": {
        "id": "M_oaYuzjfuuU",
        "pycharm": {
          "name": "#%%\n"
        }
      },
      "outputs": [],
      "source": [
        "shap.initjs()\n",
        "\n",
        "explainer = shap.TreeExplainer(model=sample_model, feature_perturbation='tree_path_dependent', model_output='margin')\n",
        "\n",
        "shap_values = explainer.shap_values(X=train_X_code_int)\n",
        "\n",
        "shap.summary_plot(shap_values, train_X_code_int, plot_type=\"bar\")"
      ]
    },
    {
      "cell_type": "code",
      "execution_count": null,
      "metadata": {
        "id": "nCAPQ8_ufuuU",
        "pycharm": {
          "name": "#%%\n"
        }
      },
      "outputs": [],
      "source": [
        "shap.summary_plot(shap_values, train_X_code_int)"
      ]
    },
    {
      "cell_type": "markdown",
      "metadata": {
        "collapsed": false,
        "id": "hoMJR0BJfuuU",
        "pycharm": {
          "name": "#%% md\n"
        }
      },
      "source": [
        "### Check all the patterns\n",
        "#### Chapter 2.12.1\n"
      ]
    },
    {
      "cell_type": "code",
      "execution_count": null,
      "metadata": {
        "id": "seWI_nCKfuuU",
        "pycharm": {
          "name": "#%%\n"
        }
      },
      "outputs": [],
      "source": [
        "# モデルを定義\n",
        "models = {\n",
        "    \"rf\": RandomForestRegressor,\n",
        "    \"extraTree\": ExtraTreesRegressor,\n",
        "    \"gbr\": GradientBoostingRegressor,\n",
        "}\n",
        "\n",
        "# 学習用データセット定義\n",
        "columns = {\n",
        "    \"fundamental_only\": fundamental_cols,\n",
        "    \"return_only\": returns_cols,\n",
        "    \"technical_only\": technical_cols,\n",
        "    \"fundamental+technical\": list(fundamental_cols) + list(technical_cols),\n",
        "}\n",
        "\n",
        "# 学習済みモデル保存用\n",
        "trained_models = dict()\n",
        "# 結果保存用\n",
        "all_results = dict()\n",
        "# モデル毎に処理\n",
        "for model in tqdm(models.keys()):\n",
        "    all_results[model] = dict()\n",
        "    trained_models[model] = dict()\n",
        "    # データセット毎に処理\n",
        "    for col in tqdm(columns.keys()):\n",
        "        result = dict()\n",
        "        trained_models[model][col] = dict()\n",
        "        # 目的変数毎に処理\n",
        "        for label in tqdm(labels):\n",
        "            if len(test_X[label][columns[col]]) > 0:\n",
        "                # モデル取得\n",
        "                pred_model = models[model](random_state=0)\n",
        "                # 学習\n",
        "                pred_model.fit(train_X[label][columns[col]].values, train_y[label])\n",
        "                # 学習済みモデル保存\n",
        "                trained_models[model][col][label] = pred_model\n",
        "                # 結果データ作成\n",
        "                result[label] = test_X[label][[\"code\"]].copy()\n",
        "                result[label][\"datetime\"] = test_X[label][columns[col]].index\n",
        "                # 予測\n",
        "                result[label][\"predict\"] = pred_model.predict(test_X[label][columns[col]])\n",
        "                result[label][\"predict_dir\"] = np.sign(result[label][\"predict\"])\n",
        "                # 実際の結果\n",
        "                result[label][\"actual\"] = test_y[label].values\n",
        "                result[label][\"actual_dir\"] = np.sign(result[label][\"actual\"])\n",
        "                result[label].dropna(inplace=True)\n",
        "\n",
        "        all_results[model][col] = result"
      ]
    },
    {
      "cell_type": "code",
      "execution_count": null,
      "metadata": {
        "id": "tQH7KRAsfuuU",
        "pycharm": {
          "name": "#%%\n"
        }
      },
      "outputs": [],
      "source": [
        "results = []\n",
        "for model in all_results.keys():\n",
        "    for col in all_results[model]:\n",
        "        tmp = pd.concat(all_results[model][col])\n",
        "        tmp[\"model\"] = model\n",
        "        tmp[\"feature\"] = col\n",
        "        results.append(tmp)\n",
        "results = pd.concat(results)\n",
        "results[\"label\"] = [x[0] for x in results.index]\n",
        "results[\"id\"] = results[\"code\"].astype(str)+results[\"datetime\"].dt.strftime('%Y%m%d')\n",
        "results.head(5)"
      ]
    },
    {
      "cell_type": "markdown",
      "metadata": {
        "collapsed": false,
        "id": "89Nx3s2FfuuU",
        "pycharm": {
          "name": "#%% md\n"
        }
      },
      "source": [
        "#### Chapter2.12.2\n"
      ]
    },
    {
      "cell_type": "code",
      "execution_count": null,
      "metadata": {
        "id": "NWvdLSayfuuU",
        "pycharm": {
          "name": "#%%\n"
        }
      },
      "outputs": [],
      "source": [
        "all_metrics = []\n",
        "\n",
        "for feature in columns:\n",
        "    matrix = dict()\n",
        "    for model in models:\n",
        "        for label in labels:\n",
        "            tmp_df = results[(results[\"model\"] == model) & (results[\"label\"] == label) & (results[\"feature\"] == feature)]\n",
        "            rmse = np.sqrt(mean_squared_error(tmp_df[\"predict\"], tmp_df[\"actual\"]))\n",
        "            accuracy = accuracy_score(tmp_df[\"predict_dir\"], tmp_df[\"actual_dir\"])\n",
        "            corr = np.corrcoef(tmp_df[\"actual\"], tmp_df[\"predict\"])[0, 1]\n",
        "            spearman_corr = spearmanr(tmp_df[\"actual\"], tmp_df[\"predict\"])[0]\n",
        "            matrix[label] = [rmse, accuracy, spearman_corr,corr, corr**2, feature, model, tmp_df.shape[0]]\n",
        "        res = pd.DataFrame.from_dict(matrix).T\n",
        "        res.columns = [\"RMSE\",\"accuracy\",\"spearman_corr\",\"corr\",\"R^2 score\",\"feature\", \"model\", \"# of samples\"]\n",
        "        all_metrics.append(res)\n",
        "all_metrics = pd.concat(all_metrics)\n",
        "all_metrics.reset_index()"
      ]
    },
    {
      "cell_type": "code",
      "execution_count": null,
      "metadata": {
        "id": "R4femAS5fuuU",
        "pycharm": {
          "name": "#%%\n"
        }
      },
      "outputs": [],
      "source": [
        "numeric_cols = [\"RMSE\",\"accuracy\",\"spearman_corr\",\"corr\",\"R^2 score\"]\n",
        "for col in numeric_cols:\n",
        "    all_metrics[col] = all_metrics[col].astype(float)\n",
        "agg = all_metrics.reset_index().groupby([\"index\",\"feature\"]).agg(\"mean\")\n",
        "agg"
      ]
    },
    {
      "cell_type": "markdown",
      "metadata": {
        "collapsed": false,
        "id": "K2gTVheZfuuU",
        "pycharm": {
          "name": "#%% md\n"
        }
      },
      "source": [
        "### Submit Model"
      ]
    },
    {
      "cell_type": "markdown",
      "metadata": {
        "id": "Ot_hLorFUY3x"
      },
      "source": [
        "本ノートブックでは、コンペ開催中に必要であったモデルの保存とサブミット用パッケージの作成は実施いたしません。"
      ]
    },
    {
      "cell_type": "code",
      "execution_count": null,
      "metadata": {
        "id": "UGwFnlZ5fuuU",
        "pycharm": {
          "name": "#%%\n"
        }
      },
      "outputs": [],
      "source": [
        "# # モデル保存用にメソッドを定義します\n",
        "# def save_model(model, label, model_path=\"../model\"):\n",
        "#     # モデル保存先ディレクトリを作成\n",
        "#     os.makedirs(model_path, exist_ok=True)\n",
        "#     with open(os.path.join(model_path, f\"my_model_{label}.pkl\"), \"wb\") as f:\n",
        "#         # モデルをpickle形式で保存\n",
        "#         pickle.dump(model, f)"
      ]
    },
    {
      "cell_type": "code",
      "execution_count": null,
      "metadata": {
        "id": "X_T3cv70fuuU",
        "pycharm": {
          "name": "#%%\n"
        }
      },
      "outputs": [],
      "source": [
        "# # 保存した学習済みモデルから、提出するモデルを選択してpickle形式で保存します。\n",
        "# # 使用するモデルや特徴量を変更する際は、学習時と推論時で同一の特徴量をモデルに\n",
        "# # 入力するために提出用のpredictor.pyについても変更する必要があることにご注意ください。\n",
        "\n",
        "# # モデルの保存先を指定します。\n",
        "# model_path = f\"{STORAGE_DIR_PATH}/model\"\n",
        "# # モデルの種類\n",
        "# models = [\"rf\"]\n",
        "# # 使用する特徴量カラム\n",
        "# columns = [\"fundamental+technical\"]\n",
        "# # 目的変数\n",
        "# labels = [\n",
        "#     \"label_high_20\",\n",
        "#     \"label_low_20\",\n",
        "# ]\n",
        "\n",
        "# # モデル毎に処理\n",
        "# for model in models:\n",
        "#     # 特徴量毎に処理\n",
        "#     for col in columns:\n",
        "#         # 目的変数毎に処理\n",
        "#         for label in labels:\n",
        "#             # 学習済みモデルを取得\n",
        "#             pred_model = trained_models[model][col][label]\n",
        "#             # モデルを保存\n",
        "#             save_model(pred_model, label, model_path=model_path)"
      ]
    },
    {
      "cell_type": "markdown",
      "metadata": {
        "id": "qEFZgbvsiziQ",
        "pycharm": {
          "name": "#%% md\n"
        }
      },
      "source": [
        "これでこちらのチュートリアル、ならびにこのノートブックは終了になります。\n",
        "お疲れ様でした！"
      ]
    }
  ],
  "metadata": {
    "colab": {
      "collapsed_sections": [],
      "provenance": []
    },
    "kernelspec": {
      "display_name": "Python 3",
      "language": "python",
      "name": "python3"
    },
    "language_info": {
      "codemirror_mode": {
        "name": "ipython",
        "version": 2
      },
      "file_extension": ".py",
      "mimetype": "text/x-python",
      "name": "python",
      "nbconvert_exporter": "python",
      "pygments_lexer": "ipython2",
      "version": "2.7.6"
    }
  },
  "nbformat": 4,
  "nbformat_minor": 0
}