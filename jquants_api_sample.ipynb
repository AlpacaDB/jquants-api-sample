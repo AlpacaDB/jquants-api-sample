{
  "nbformat": 4,
  "nbformat_minor": 0,
  "metadata": {
    "colab": {
      "provenance": [],
      "collapsed_sections": []
    },
    "kernelspec": {
      "name": "python3",
      "display_name": "Python 3"
    },
    "language_info": {
      "name": "python"
    }
  },
  "cells": [
    {
      "cell_type": "markdown",
      "source": [
        "# J-Quants API 株式市場分析デモ"
      ],
      "metadata": {
        "id": "QqsYtyfZQpsj"
      }
    },
    {
      "cell_type": "markdown",
      "source": [
        "[![Open In Colab](https://colab.research.google.com/assets/colab-badge.svg)](https://colab.research.google.com/github/AlpacaDB/jquants-api-sample/blob/main/jquants_api_sample.ipynb)"
      ],
      "metadata": {
        "id": "CvJ8xX0UzWpL"
      }
    },
    {
      "cell_type": "markdown",
      "source": [
        "本デモでは以下のユーザーを想定しています。\n",
        "\n",
        "* Python / Pandas / Matplotlib / Seaborn についての知識を有していること\n",
        "* J-Quants API リフレッシュトークンを取得して Google Drive に保存していること\n",
        "* Google Driveにアクセス可能であること\n",
        "* (Optional) Google Cloud Storage を使用可能であること\n",
        "\n",
        "本デモで使用している jquants-api-client (jquantsapi) は以下のリポジトリで公開されております。\n",
        "\n",
        "https://github.com/J-Quants/jquants-api-client-python"
      ],
      "metadata": {
        "id": "t9ZDX54sRYPF"
      }
    },
    {
      "cell_type": "code",
      "source": [
        "# プロットで日本語を使用できるようにします\n",
        "!pip install japanize-matplotlib\n",
        "\n",
        "# J-Quants API Clientを使用します\n",
        "!pip install jquants-api-client"
      ],
      "metadata": {
        "id": "4n8laBVake73"
      },
      "execution_count": null,
      "outputs": []
    },
    {
      "cell_type": "code",
      "execution_count": null,
      "metadata": {
        "id": "yD3WWKpTQgQP"
      },
      "outputs": [],
      "source": [
        "import os\n",
        "from datetime import datetime\n",
        "\n",
        "import japanize_matplotlib\n",
        "import jquantsapi\n",
        "import matplotlib.pyplot as plt\n",
        "import numpy as np\n",
        "import pandas as pd\n",
        "import seaborn as sns"
      ]
    },
    {
      "cell_type": "code",
      "source": [
        "# pandas の表示制限を調整します\n",
        "pd.set_option(\"display.max_rows\", 1000)\n",
        "pd.set_option(\"display.max_columns\", 1000)\n",
        "pd.set_option(\"display.width\", 2000)"
      ],
      "metadata": {
        "id": "EG3_5YiubYuJ"
      },
      "execution_count": null,
      "outputs": []
    },
    {
      "cell_type": "markdown",
      "source": [
        "## データ保存用ディレクトリ設定"
      ],
      "metadata": {
        "id": "RNqKSLLtciDq"
      }
    },
    {
      "cell_type": "markdown",
      "source": [
        "J-Quants APIから取得したデータを保存しておくためのディレクトリを設定します。\n",
        "\n",
        "J-Quants APIから毎回全データを取得するのではデータ取得のために時間がかかってしまうため、取得したデータを保存しておいて必要な最新データのみを J-Quants API から取得します。\n",
        "加えて、分析に必要な中間ファイルや結果ファイルの保存にも使用します。\n",
        "\n",
        "データ量が多くなければ Google Drive で十分ですが、データ量が多くなってきた場合は Cloud Storage を使用するとよいでしょう。"
      ],
      "metadata": {
        "id": "cfsYJUkZcktc"
      }
    },
    {
      "cell_type": "markdown",
      "source": [
        "### Google Drive のマウント"
      ],
      "metadata": {
        "id": "SPBXL_LGzfvg"
      }
    },
    {
      "cell_type": "code",
      "source": [
        "from google.colab import drive\n",
        "drive.mount('/content/drive')"
      ],
      "metadata": {
        "id": "hLKMHqmNzgey"
      },
      "execution_count": null,
      "outputs": []
    },
    {
      "cell_type": "markdown",
      "source": [
        "### (Optional) Cloud Storage のマウント"
      ],
      "metadata": {
        "id": "joB2mxKJXqdT"
      }
    },
    {
      "cell_type": "markdown",
      "source": [
        "取得したデータは、Google Drive に保存しておくことも可能ですが、データへのアクセスやデータ量が増加していくことを考慮すると、Cloud Storage に保存するのも一つの方法です。Colab と Cloud Storage は親和性が高く、以下のように gcsfuse というツールを使用することで Google Cloud Storage をマウントしてファイルシステムとして使用することが可能です。\n",
        "\n",
        "Cloud Storage については [Cloud Storage](https://cloud.google.com/storage) をご参照ください。\n",
        "gcsfuse については [GoogleCloudPlatform/gcsfuse](https://github.com/GoogleCloudPlatform/gcsfuse/) をご参照ください。\n",
        "\n",
        "※デフォルトではコメントアウトしているため、使用するためにはコメントを外してください。\n",
        "※使用される際はバケット名をご自身のバケット名に変更してください。"
      ],
      "metadata": {
        "id": "U7i5TH18XvEJ"
      }
    },
    {
      "cell_type": "code",
      "source": [
        "# Cloud Storage をマウントするパスを設定します\n",
        "MOUNT_PATH = \"/content/gcs/colab\"\n",
        "# マウントする Cloud Storage のバケット名を設定します\n",
        "BUCKET_NAME = \"colab-demo-alpaca-ai\""
      ],
      "metadata": {
        "id": "UBQlweLN4TDF"
      },
      "execution_count": null,
      "outputs": []
    },
    {
      "cell_type": "code",
      "source": [
        "# # Google Cloud Storage を使用するためにユーザー認証を実施します。\n",
        "# from google.colab import auth\n",
        "# auth.authenticate_user()"
      ],
      "metadata": {
        "id": "0TOCLrYcYpAd"
      },
      "execution_count": null,
      "outputs": []
    },
    {
      "cell_type": "code",
      "source": [
        "# %%bash\n",
        "# # install gcsfuse to mount Google Cloud Storage\n",
        "# # ref. https://github.com/GoogleCloudPlatform/gcsfuse/blob/master/docs/installing.md\n",
        "# # export APT_KEY_DONT_WARN_ON_DANGEROUS_USAGE=1\n",
        "# export GCSFUSE_REPO=gcsfuse-`lsb_release -c -s`\n",
        "# echo \"deb http://packages.cloud.google.com/apt $GCSFUSE_REPO main\" | sudo tee /etc/apt/sources.list.d/gcsfuse.list\n",
        "# curl -s https://packages.cloud.google.com/apt/doc/apt-key.gpg | sudo apt-key add -\n",
        "# apt-get -qq update\n",
        "# apt-get -qq install gcsfuse"
      ],
      "metadata": {
        "id": "utXiwpCeY4Pg"
      },
      "execution_count": null,
      "outputs": []
    },
    {
      "cell_type": "code",
      "source": [
        "# # # mount Google Cloud Storage Bucket\n",
        "# ! mkdir -p $MOUNT_PATH\n",
        "# ! gcsfuse $BUCKET_NAME $MOUNT_PATH\n",
        "# ! touch $MOUNT_PATH/mount_check"
      ],
      "metadata": {
        "id": "Nm4JuE4n4QaA"
      },
      "execution_count": null,
      "outputs": []
    },
    {
      "cell_type": "markdown",
      "source": [
        "### データ保存用ディレクトリへのパスを設定"
      ],
      "metadata": {
        "id": "IwqdW9gFdsnh"
      }
    },
    {
      "cell_type": "code",
      "source": [
        "# check mounted Cloud Storage\n",
        "if os.path.isfile(f\"{MOUNT_PATH}/mount_check\"):\n",
        "    # use Cloud Storage\n",
        "    STORAGE_DIR_PATH = f\"{MOUNT_PATH}/marketdata\"\n",
        "else:\n",
        "    # use google drive\n",
        "    STORAGE_DIR_PATH = \"/content/drive/MyDrive/drive_ws/marketdata\"\n",
        "os.makedirs(STORAGE_DIR_PATH, exist_ok=True)\n",
        "STORAGE_DIR_PATH"
      ],
      "metadata": {
        "id": "KxGsZCjqdzoL"
      },
      "execution_count": null,
      "outputs": []
    },
    {
      "cell_type": "markdown",
      "source": [
        "## J-Quants API のリフレッシュトークン取得\n",
        "\n",
        "※ 最新の jquants-api-client-python ではリフレッシュトークンの代わりに登録したメールアドレスおよびパスワードを使用することもできるようになりました。詳細は [jquants-api-client-python](https://github.com/J-Quants/jquants-api-client-python) を御覧ください。\n",
        "\n",
        "J-Quants APIにアクセスするためには J-Quants API の Web サイトから取得できるリフレッシュトークンが必要になります。\n",
        "取得したリフレッシュトークンを Google Drive に配置してから以下の作業をすすめます。\n",
        "\n",
        "※ Google Drive 上のファイル経由でリフレッシュトークンを取り扱っているのは、このような公開の場でデモする際にリフレッシュトークンを画面上に露出させないためです。\n",
        "\n",
        "※ リフレッシュトークンの有効期限は1週間となっているため、1週間ごとに再取得が必要になります。"
      ],
      "metadata": {
        "id": "TOgeYS1zXMst"
      }
    },
    {
      "cell_type": "code",
      "source": [
        "REFRESH_TOKEN_FILE_PATH = \"/content/drive/MyDrive/drive_ws/secret/jquantsapi-key.txt\""
      ],
      "metadata": {
        "id": "SdMCRD_0W5zo"
      },
      "execution_count": null,
      "outputs": []
    },
    {
      "cell_type": "code",
      "source": [
        "def get_refresh_token(refresh_token_file_path: str = REFRESH_TOKEN_FILE_PATH):\n",
        "    with open(refresh_token_file_path, \"r\") as f:\n",
        "        refresh_token = f.read()\n",
        "    return refresh_token.rstrip().lstrip()"
      ],
      "metadata": {
        "id": "O07N4B_VWQ8y"
      },
      "execution_count": null,
      "outputs": []
    },
    {
      "cell_type": "code",
      "source": [
        "refresh_token = get_refresh_token()"
      ],
      "metadata": {
        "id": "GJam0R3KQ_xz"
      },
      "execution_count": null,
      "outputs": []
    },
    {
      "cell_type": "markdown",
      "source": [
        "## J-Quants API アクセスクライアント初期化"
      ],
      "metadata": {
        "id": "9al3g6ylb3H4"
      }
    },
    {
      "cell_type": "markdown",
      "source": [
        "J-Quants API はシンプルな Web API 実装となっています。ここではjquants-api-clientライブラリを使用します。\n",
        "\n",
        "* ラッパー群　J-Quants API の各APIエンドポイントに対応しています。\n",
        "  * get_idtoken\n",
        "  * get_listed_info\n",
        "  * get_listed_sections\n",
        "  * get_market_segments\n",
        "  * get_prices_daily_quotes\n",
        "  * get_fins_statements\n",
        "  * get_fins_announcement\n",
        "* ユーティリティー群　日付範囲を指定して一括でデータ取得して、取得したデータを結合して返すようなユーティリティーメソッドです。\n",
        "  * get_list\n",
        "  * get_price_all\n",
        "  * get_statements_all"
      ],
      "metadata": {
        "id": "xUZZl6t0VNXv"
      }
    },
    {
      "cell_type": "code",
      "source": [
        "jqapi = jquantsapi.Client(refresh_token=refresh_token)"
      ],
      "metadata": {
        "id": "fTcEbCHoeYtp"
      },
      "execution_count": null,
      "outputs": []
    },
    {
      "cell_type": "markdown",
      "source": [
        "※ 最新の jquants-api-client-python では以下の方法でデータ取得のための認証を実施することができます。詳細は [jquants-api-client-python](https://github.com/J-Quants/jquants-api-client-python) を御覧ください。\n",
        "\n",
        "1.   refresh_token パラメーター (本サンプル)\n",
        "2.   mail_address および password パラメーター\n",
        "3.   設定ファイル\n",
        "4.   環境変数\n"
      ],
      "metadata": {
        "id": "eQgo72XZ9flI"
      }
    },
    {
      "cell_type": "markdown",
      "source": [
        "## J-Quants APIから取得できるデータの確認"
      ],
      "metadata": {
        "id": "V0-9tm0Ugvhr"
      }
    },
    {
      "cell_type": "markdown",
      "source": [
        "### 銘柄情報の取得"
      ],
      "metadata": {
        "id": "4qeflJN5YU1r"
      }
    },
    {
      "cell_type": "markdown",
      "source": [
        "銘柄情報は個別に銘柄コードを指定して取得することと、一覧を取得することができます。"
      ],
      "metadata": {
        "id": "1VjPEhooE-Ag"
      }
    },
    {
      "cell_type": "code",
      "source": [
        "# 銘柄コードを指定して取得\n",
        "df_list = jqapi.get_listed_info(code=8697)\n",
        "df_list.head(2)"
      ],
      "metadata": {
        "id": "9NS63zUPYVSy"
      },
      "execution_count": null,
      "outputs": []
    },
    {
      "cell_type": "code",
      "source": [
        "# 全銘柄一覧を取得\n",
        "df_list = jqapi.get_listed_info()\n",
        "df_list.head(2)"
      ],
      "metadata": {
        "id": "_IbeyIdgoSUw"
      },
      "execution_count": null,
      "outputs": []
    },
    {
      "cell_type": "markdown",
      "source": [
        "### セクター情報の取得"
      ],
      "metadata": {
        "id": "6fX9YEaig8up"
      }
    },
    {
      "cell_type": "code",
      "source": [
        "df_sectors = jqapi.get_listed_sections()\n",
        "df_sectors.head(2)"
      ],
      "metadata": {
        "id": "X7pgscIwiA0o"
      },
      "execution_count": null,
      "outputs": []
    },
    {
      "cell_type": "markdown",
      "source": [
        "### 市場区分の取得"
      ],
      "metadata": {
        "id": "LaQfxypgg_BN"
      }
    },
    {
      "cell_type": "code",
      "source": [
        "df_market = jqapi.get_market_segments()\n",
        "df_market.head(2)"
      ],
      "metadata": {
        "id": "FiA_9SuzlzGt"
      },
      "execution_count": null,
      "outputs": []
    },
    {
      "cell_type": "markdown",
      "source": [
        "### 銘柄/市場区分/セクターの確認"
      ],
      "metadata": {
        "id": "OyRMQ8ouhDw9"
      }
    },
    {
      "cell_type": "markdown",
      "source": [
        "ここまで取得したデータを使用して簡単な確認を実施してみましょう。"
      ],
      "metadata": {
        "id": "DgTUILzwhMiz"
      }
    },
    {
      "cell_type": "code",
      "source": [
        "# 全銘柄数\n",
        "df_list.shape[0]"
      ],
      "metadata": {
        "id": "m7xPie0lqsac"
      },
      "execution_count": null,
      "outputs": []
    },
    {
      "cell_type": "code",
      "source": [
        "# 市場区分毎の銘柄数を確認\n",
        "df_list_market = pd.merge(df_list, df_market, on=\"MarketCode\")\n",
        "df_list_market.groupby(\"MarketName\")[\"Code\"].count().sort_values(\n",
        "    ascending=False\n",
        ").to_frame().plot(kind=\"bar\")"
      ],
      "metadata": {
        "id": "WRItY9XunNrN"
      },
      "execution_count": null,
      "outputs": []
    },
    {
      "cell_type": "code",
      "source": [
        "# セクター毎の銘柄数を確認\n",
        "df_list_sector_market = pd.merge(df_list_market, df_sectors, on=\"SectorCode\")\n",
        "df_list_sector_market.groupby(\"SectorName\")[\"Code\"].count().sort_values(\n",
        "    ascending=False\n",
        ").to_frame().plot(kind=\"bar\")"
      ],
      "metadata": {
        "id": "GOtboWTGhS4D"
      },
      "execution_count": null,
      "outputs": []
    },
    {
      "cell_type": "code",
      "source": [
        "# セクターおよび市場区分ごとの銘柄数確認\n",
        "# ヒートマップで確認するためにデータを整形します。\n",
        "df_tmp = (\n",
        "    df_list_sector_market.groupby([\"SectorName\", \"MarketName\"])[\"Code\"]\n",
        "    .count()\n",
        "    .to_frame()\n",
        "    .reset_index()\n",
        "    .pivot(index=\"SectorName\", columns=\"MarketName\", values=\"Code\")\n",
        "    .fillna(0)\n",
        "    .astype(int)[[\"プライム\", \"スタンダード\", \"グロース\"]]\n",
        ")\n",
        "df_tmp.head(5)"
      ],
      "metadata": {
        "id": "tVsNJfLUiES9"
      },
      "execution_count": null,
      "outputs": []
    },
    {
      "cell_type": "code",
      "source": [
        "f, ax = plt.subplots(figsize=(18, 12))\n",
        "sns.heatmap(\n",
        "    df_tmp,\n",
        "    annot=True,\n",
        "    fmt=\"d\",\n",
        "    cmap=sns.diverging_palette(230, 20, as_cmap=True),\n",
        "    linewidths=0.5,\n",
        "    ax=ax,\n",
        ")"
      ],
      "metadata": {
        "id": "9KUAbS_qiphq"
      },
      "execution_count": null,
      "outputs": []
    },
    {
      "cell_type": "markdown",
      "source": [
        "### 株価情報の取得"
      ],
      "metadata": {
        "id": "Pw0aY4GlnCD3"
      }
    },
    {
      "cell_type": "markdown",
      "source": [
        "株価情報は2通りの取得方法が提供されています。それぞれの取得方法を確認してみましょう。"
      ],
      "metadata": {
        "id": "6JutyYPcqNst"
      }
    },
    {
      "cell_type": "code",
      "source": [
        "# 日付を指定して取得\n",
        "df_price = jqapi.get_prices_daily_quotes(date_yyyymmdd=\"20220517\")\n",
        "df_price.head(2)"
      ],
      "metadata": {
        "id": "7euBE-s7p-V-"
      },
      "execution_count": null,
      "outputs": []
    },
    {
      "cell_type": "code",
      "source": [
        "# 銘柄コードを指定して取得\n",
        "df_price = jqapi.get_prices_daily_quotes(code=8697)\n",
        "df_price.tail(2)"
      ],
      "metadata": {
        "id": "NQZw0GyWsOJS"
      },
      "execution_count": null,
      "outputs": []
    },
    {
      "cell_type": "markdown",
      "source": [
        "### マーケット情報の取得"
      ],
      "metadata": {
        "id": "ltmTbWhW_KY8"
      }
    },
    {
      "cell_type": "markdown",
      "source": [
        "#### 週次の投資部門別売買状況\n",
        "\n",
        "日付を指定して取得する方法と、セクションを指定して取得する方法が提供されています。"
      ],
      "metadata": {
        "id": "YEhsX6tl_NQd"
      }
    },
    {
      "cell_type": "code",
      "source": [
        "# 指定したセクションの指定した期間のデータ\n",
        "df_markets_trades = jqapi.get_markets_trades_spec(section=jquantsapi.MARKET_API_SECTIONS.TSE1st, from_yyyymmdd=\"20190101\", to_yyyymmdd=\"20190114\")\n",
        "df_markets_trades.tail(2)"
      ],
      "metadata": {
        "id": "2aV-UXjc_Vwk"
      },
      "execution_count": null,
      "outputs": []
    },
    {
      "cell_type": "code",
      "source": [
        "# 指定したセクションの全期間のデータ\n",
        "df_markets_trades = jqapi.get_markets_trades_spec(section=jquantsapi.MARKET_API_SECTIONS.TSEPrime)\n",
        "df_markets_trades.tail(2)"
      ],
      "metadata": {
        "id": "V5SDAR3UAMJ5"
      },
      "execution_count": null,
      "outputs": []
    },
    {
      "cell_type": "code",
      "source": [
        "# すべてのセクションの指定した期間のデータ\n",
        "df_markets_trades = jqapi.get_markets_trades_spec(from_yyyymmdd=\"20190101\", to_yyyymmdd=\"20190114\")\n",
        "df_markets_trades.tail(2)"
      ],
      "metadata": {
        "id": "ZA951r1DANw-"
      },
      "execution_count": null,
      "outputs": []
    },
    {
      "cell_type": "code",
      "source": [
        "# すべてのセクションの全期間のデータ\n",
        "df_markets_trades = jqapi.get_markets_trades_spec()\n",
        "df_markets_trades.tail(2)"
      ],
      "metadata": {
        "id": "YYY07UWTAXPY"
      },
      "execution_count": null,
      "outputs": []
    },
    {
      "cell_type": "markdown",
      "source": [
        "### 財務情報の取得"
      ],
      "metadata": {
        "id": "-16evQjuzfVk"
      }
    },
    {
      "cell_type": "markdown",
      "source": [
        "財務情報も日付を指定して取得する方法と、銘柄コードを指定して取得する方法が提供されています。"
      ],
      "metadata": {
        "id": "74sBTeqxqdhm"
      }
    },
    {
      "cell_type": "code",
      "source": [
        "# 日付を指定\n",
        "df_fin = jqapi.get_fins_statements(date_yyyymmdd=\"20220629\")\n",
        "df_fin.head(2).T"
      ],
      "metadata": {
        "id": "g5PYb_skzqiS"
      },
      "execution_count": null,
      "outputs": []
    },
    {
      "cell_type": "code",
      "source": [
        "# 銘柄コードを指定\n",
        "df_fin = jqapi.get_fins_statements(code=8697)\n",
        "df_fin.tail(2).T"
      ],
      "metadata": {
        "id": "5IY18luGd4Un"
      },
      "execution_count": null,
      "outputs": []
    },
    {
      "cell_type": "markdown",
      "source": [
        "### 財務情報公表予定の取得"
      ],
      "metadata": {
        "id": "a8hpeOatq17T"
      }
    },
    {
      "cell_type": "code",
      "source": [
        "df_fin_announcement = jqapi.get_fins_announcement()\n",
        "df_fin_announcement.head(2)"
      ],
      "metadata": {
        "id": "zPZWTOIKeMEy"
      },
      "execution_count": null,
      "outputs": []
    },
    {
      "cell_type": "markdown",
      "source": [
        "## J-Quants API からのデータ取得と保存\n",
        "\n"
      ],
      "metadata": {
        "id": "ts3YtUJ0rDuK"
      }
    },
    {
      "cell_type": "markdown",
      "source": [
        "J-Quants API から毎日データを取得して分析する環境を作るために、日次で必要なデータを取得していきます。"
      ],
      "metadata": {
        "id": "_FbCX8IMrHvi"
      }
    },
    {
      "cell_type": "markdown",
      "source": [
        "### 銘柄データの取得"
      ],
      "metadata": {
        "id": "RjN3FN5stCOX"
      }
    },
    {
      "cell_type": "markdown",
      "source": [
        "以降の作業を容易にするために、市場区分やセクター情報を結合した銘柄リストを作成します。"
      ],
      "metadata": {
        "id": "o-j0cdc3tEZ7"
      }
    },
    {
      "cell_type": "code",
      "source": [
        "now = pd.Timestamp.now(tz=\"Asia/Tokyo\")\n",
        "if now.hour < 22:\n",
        "    # データ更新時間前の場合は日付を1日ずらします。\n",
        "    now -= pd.Timedelta(1, unit=\"D\")\n",
        "list_file = f\"{STORAGE_DIR_PATH}/list_{now.strftime('%Y%m%d')}.csv.gz\"\n",
        "if not os.path.isfile(list_file):\n",
        "    df_list = jqapi.get_list()\n",
        "    df_list.to_csv(list_file, compression=\"gzip\", index=False)\n",
        "    print(f\"save file: {list_file}\")\n",
        "else:\n",
        "    print(f\"file exists: {list_file}, loading\")\n",
        "    df_list = pd.read_csv(list_file, dtype=\"str\")"
      ],
      "metadata": {
        "id": "lGrJDXdftKzQ"
      },
      "execution_count": null,
      "outputs": []
    },
    {
      "cell_type": "code",
      "source": [
        "df_list.head(2)"
      ],
      "metadata": {
        "id": "ZEc_grfpwzb3"
      },
      "execution_count": null,
      "outputs": []
    },
    {
      "cell_type": "markdown",
      "source": [
        "### 株価データの取得"
      ],
      "metadata": {
        "id": "X9EcSMrrsf5_"
      }
    },
    {
      "cell_type": "markdown",
      "source": [
        "ここではロジックを簡易で済ませるために日次で必要な全データを取得しなおしています。\n",
        "環境によって実行に10分ほどかかることがあります。\n",
        "\n",
        "TODO: 未調整済み株価から調整済み株価の算出ロジックの実装"
      ],
      "metadata": {
        "id": "3UY0mj8Bsh6a"
      }
    },
    {
      "cell_type": "code",
      "source": [
        "now = pd.Timestamp.now(tz=\"Asia/Tokyo\")\n",
        "start_dt = now - pd.offsets.Week(6)\n",
        "end_dt = now\n",
        "if end_dt.hour < 19:\n",
        "    # データ更新時間前の場合は日付を1日ずらします。\n",
        "    end_dt -= pd.Timedelta(1, unit=\"D\")\n",
        "price_file = f\"{STORAGE_DIR_PATH}/price_{start_dt.strftime('%Y%m%d')}_{end_dt.strftime('%Y%m%d')}.csv.gz\"\n",
        "if not os.path.isfile(price_file):\n",
        "    df_p = jqapi.get_price_range(start_dt=start_dt, end_dt=end_dt)\n",
        "    df_p.to_csv(price_file, compression=\"gzip\", index=False)\n",
        "    print(f\"save file: {price_file}\")\n",
        "else:\n",
        "    print(f\"file exists: {price_file}, loading\")\n",
        "    df_p = pd.read_csv(price_file, dtype=\"str\")\n",
        "    df_p.loc[:, \"Date\"] = pd.to_datetime(df_p[\"Date\"], format=\"%Y-%m-%d\")"
      ],
      "metadata": {
        "id": "knNhprVxVZlI"
      },
      "execution_count": null,
      "outputs": []
    },
    {
      "cell_type": "code",
      "source": [
        "df_p.tail(2)"
      ],
      "metadata": {
        "id": "FYE8uGFHSgL2"
      },
      "execution_count": null,
      "outputs": []
    },
    {
      "cell_type": "markdown",
      "source": [
        "### 財務データの取得"
      ],
      "metadata": {
        "id": "P7AA-YqVtSGw"
      }
    },
    {
      "cell_type": "markdown",
      "source": [
        "get_statements_all に cache_dir を指定すると、日次のデータをキャッシュとして保存しておくため、日次では必要なファイルのみを取得しています。"
      ],
      "metadata": {
        "id": "XXFuNHO1vysD"
      }
    },
    {
      "cell_type": "code",
      "source": [
        "now = pd.Timestamp.now(tz=\"Asia/Tokyo\")\n",
        "start_dt = now - pd.Timedelta(14, unit=\"D\")\n",
        "end_dt = now - pd.Timedelta(1, unit=\"D\")\n",
        "if end_dt.hour < 1:\n",
        "    # データ更新時間前の場合は日付を1日ずらします。\n",
        "    end_dt -= pd.Timedelta(1, unit=\"D\")\n",
        "statements_file = f\"{STORAGE_DIR_PATH}/statements_{start_dt.strftime('%Y%m%d')}_{end_dt.strftime('%Y%m%d')}.csv.gz\"\n",
        "if not os.path.isfile(statements_file):\n",
        "    cache_dir = f\"{STORAGE_DIR_PATH}/raw_statements\"\n",
        "    os.makedirs(cache_dir, exist_ok=True)\n",
        "    df_s = jqapi.get_statements_range(\n",
        "        start_dt=start_dt, end_dt=end_dt, cache_dir=cache_dir\n",
        "    )\n",
        "    df_s.to_csv(statements_file, compression=\"gzip\", index=False)\n",
        "    print(f\"save file: {statements_file}\")\n",
        "else:\n",
        "    print(f\"file exists: {statements_file}, loading\")\n",
        "    df_s = pd.read_csv(statements_file, dtype=\"str\")\n",
        "    df_s.loc[:, \"DisclosedDate\"] = pd.to_datetime(\n",
        "        df_s[\"DisclosedDate\"], format=\"%Y-%m-%d\"\n",
        "    )\n",
        "    df_s.loc[:, \"CurrentPeriodEndDate\"] = pd.to_datetime(\n",
        "        df_s[\"CurrentPeriodEndDate\"], format=\"%Y-%m-%d\"\n",
        "    )\n",
        "    df_s.loc[:, \"CurrentFiscalYearStartDate\"] = pd.to_datetime(\n",
        "        df_s[\"CurrentFiscalYearStartDate\"], format=\"%Y-%m-%d\"\n",
        "    )\n",
        "    df_s.loc[:, \"CurrentFiscalYearEndDate\"] = pd.to_datetime(\n",
        "        df_s[\"CurrentFiscalYearEndDate\"], format=\"%Y-%m-%d\"\n",
        "    )\n",
        "    df_s.sort_values(\"DisclosedUnixTime\", inplace=True)"
      ],
      "metadata": {
        "id": "aEk-UcFqtZYb"
      },
      "execution_count": null,
      "outputs": []
    },
    {
      "cell_type": "code",
      "source": [
        "df_s.head(2)"
      ],
      "metadata": {
        "id": "DY-3KGH1uA_7"
      },
      "execution_count": null,
      "outputs": []
    },
    {
      "cell_type": "markdown",
      "source": [
        "## J-Quants APIから取得したデータの分析"
      ],
      "metadata": {
        "id": "nLTWi7LjxCGL"
      }
    },
    {
      "cell_type": "markdown",
      "source": [
        "ここまでで日次で最新のデータを取得できるようになったため、ここからは取得したデータを使用して分析をしてみたいと思います。一例として注目されているセクターの移り変わりを分析してみたいと思います。"
      ],
      "metadata": {
        "id": "ShVxC6S67Q9a"
      }
    },
    {
      "cell_type": "markdown",
      "source": [
        "### プライム市場における各セクターの取引代金の変化率"
      ],
      "metadata": {
        "id": "v3Ss_8v80LqJ"
      }
    },
    {
      "cell_type": "markdown",
      "source": [
        "セクターローテーションという言葉が示すように注目されているセクターは市場状況に応じて変化していきます。各セクターごとのリターンを算出して分析することが一般的ですが、ここではプライム市場において各セクターの取引代金が占める割合の変化を分析してみます。"
      ],
      "metadata": {
        "id": "XzA2qsYG7L5w"
      }
    },
    {
      "cell_type": "code",
      "source": [
        "# 株価情報と銘柄情報を結合します\n",
        "df_work = pd.merge(df_p, df_list, how=\"inner\", on=[\"Code\"])\n",
        "# 数字型に変換します\n",
        "df_work.loc[:, \"TurnoverValue\"] = df_work[\"TurnoverValue\"].astype(np.float64)\n",
        "df_work.head(2)"
      ],
      "metadata": {
        "id": "urLdvavDxF3x"
      },
      "execution_count": null,
      "outputs": []
    },
    {
      "cell_type": "code",
      "source": [
        "# プライム市場の過去5週のセクター別の取引額のしめる割合の推移を確認します\n",
        "last_bday = (pd.Timestamp.now(tz=\"Asia/Tokyo\") - pd.offsets.Week(6)).strftime(\n",
        "    \"%Y-%m-%d\"\n",
        ")\n",
        "# データを絞り込みます\n",
        "df = df_work.loc[\n",
        "    (\n",
        "        (\n",
        "            # 営業日\n",
        "            df_work[\"Date\"]\n",
        "            >= last_bday\n",
        "        )\n",
        "        & (\n",
        "            # プライム市場\n",
        "            df_work[\"MarketCode\"]\n",
        "            == \"A\"\n",
        "        )\n",
        "    )\n",
        "].copy()"
      ],
      "metadata": {
        "id": "VgmfaVcGxKtb"
      },
      "execution_count": null,
      "outputs": []
    },
    {
      "cell_type": "code",
      "source": [
        "# 週次でセクターごとの取引代金を集計してフォーマットを整えます\n",
        "df_turnovervalue = (\n",
        "    (\n",
        "        df.groupby([\"SectorName\", pd.Grouper(key=\"Date\", freq=\"W\")])[\n",
        "            [\"TurnoverValue\"]\n",
        "        ].sum()\n",
        "    )\n",
        "    .reset_index()\n",
        "    .pivot(\"Date\", \"SectorName\", \"TurnoverValue\")\n",
        "    .dropna()\n",
        ")\n",
        "# 週次で各セクターの割合を計算します\n",
        "df_turnovervalue = df_turnovervalue.div(df_turnovervalue.sum(axis=1), axis=0)\n",
        "# 割合の前週との変化率を計算します\n",
        "df_turnovervalue = df_turnovervalue.pct_change().dropna()\n",
        "# 日付範囲を区切ります\n",
        "df_turnovervalue = df_turnovervalue.loc[df_turnovervalue.index[1:]]\n",
        "# 日付の表示方法を変更します\n",
        "df_turnovervalue.index = df_turnovervalue.index.strftime(\"%Y-%m-%d\")\n",
        "# 表示用に展開します\n",
        "df_turnovervalue = df_turnovervalue.T\n",
        "# 直近の増減でソートします\n",
        "df_turnovervalue = df_turnovervalue.sort_values(\n",
        "    df_turnovervalue.columns[-1], ascending=False\n",
        ")\n",
        "# 週次での増減を可視化します\n",
        "df_turnovervalue.style.background_gradient(cmap=\"RdYlGn\", axis=0)"
      ],
      "metadata": {
        "id": "SYG2Sb4QxV3o"
      },
      "execution_count": null,
      "outputs": []
    },
    {
      "cell_type": "markdown",
      "source": [
        "本日のデモは以上となります。\n",
        "\n",
        "J-Quants API を使用することで個人投資家の方々もご自身の観点で市場を分析することができるようになるかと思われます。今回は財務情報についてデータの取得のみで分析はしませんでしたが、J-Quants データ分析コンペティションで上位入賞した機械学習モデルは財務情報からも特徴量を抽出していますように、分析しがいのあるデータとなっております。\n",
        "\n",
        "J-Quants API が登場することによって、個人投資家が使用可能な Google Colab や Google Cloud などのオンデマンドでの計算資源と組み合わせることで、データドリブンな意思決定をよりしやすい環境が見えてきました。\n",
        "\n",
        "J-Quants API は現在ベータ版が公開されています。公式サイトにて運営事務局へのフィードバックも募集されていますので、本ノートブックが活発なディスカッションの一助となれば幸いでございます。\n",
        "\n",
        "[J-Quatns公式サイト](https://jpx-jquants.com)"
      ],
      "metadata": {
        "id": "NYLcdoX89KPi"
      }
    },
    {
      "cell_type": "code",
      "source": [],
      "metadata": {
        "id": "RzhIegKQAK9C"
      },
      "execution_count": null,
      "outputs": []
    }
  ]
}